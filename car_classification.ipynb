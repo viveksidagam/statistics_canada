{
 "cells": [
  {
   "cell_type": "markdown",
   "id": "a889d0fd",
   "metadata": {},
   "source": [
    "# Assignment 1 Cars Dataset \n",
    "\n",
    "\n",
    "### Getting our workspace ready\n",
    "\n",
    "Let's import all the necessary libraries and set our current working directory to a variable"
   ]
  },
  {
   "cell_type": "code",
   "execution_count": 1,
   "id": "4bea8989",
   "metadata": {},
   "outputs": [],
   "source": [
    "import os\n",
    "import numpy as np\n",
    "import pandas as pd\n",
    "import matplotlib.pyplot as plt\n",
    "from matplotlib.pyplot import imread\n",
    "import torch\n",
    "from torchvision import models, datasets\n",
    "import torch.nn as nn\n",
    "import scipy.io\n",
    "from PIL import Image\n",
    "from sklearn.model_selection import train_test_split\n",
    "import requests\n",
    "import xtarfile as tarfile\n",
    "\n",
    "curr_dir = os.getcwd()"
   ]
  },
  {
   "cell_type": "markdown",
   "id": "c9fafea6",
   "metadata": {},
   "source": [
    "## Task 1: Build a function that converts a labelled dataset into labelled and unlabelled subsets.\n",
    "\n",
    "My function takes a pd.Series object that has class labels as data and corresponding dataset index as its index\n",
    "It then samples 1 instance from each of the classes and then samples rest of the instances randomly from the remaining instances\n",
    "\n",
    "The function return two lists, one containing indices that are supposed to be labelled and nother containing indices that are supposed to be unlabelled"
   ]
  },
  {
   "cell_type": "code",
   "execution_count": 2,
   "id": "af892746",
   "metadata": {},
   "outputs": [],
   "source": [
    "def split_series_min_1(dataset_labels, proportion):\n",
    "    label_count = int(len(dataset_labels) * (1-proportion))\n",
    "    df = pd.DataFrame(dataset_labels)\n",
    "    sample = df.groupby(by='class_idx').sample(1)\n",
    "    sample = sample.append(\n",
    "        df[~df.index.isin(sample.index)] # only rows that have not been selected\n",
    "        .sample(n=label_count-sample.shape[0]) # sample more rows as needed\n",
    "    ).sort_index()\n",
    "    label_indices = sample.index\n",
    "    unlable_indices = df[~df.index.isin(sample.index)].index\n",
    "    return list(label_indices), list(unlable_indices)\n",
    "    "
   ]
  },
  {
   "cell_type": "markdown",
   "id": "7f4a0881",
   "metadata": {},
   "source": [
    "### Load Data\n",
    "I downloaded the data from the provided link https://ai.stanford.edu/~jkrause/cars/car_dataset.html\n",
    "The devkit folder has a file cars_train_annos.mat that has class indices mapped to the corresponding images and cars_meta.mat file has the list of all indices\n",
    "\n",
    "I will create a DataFrame called data_set that will contain all the detailes about the image files\n",
    "\n",
    "Below cell downloads training dataset tar file to data folder of the working directory and unzips it\n",
    "\n",
    "the devkit folder is already in the repository"
   ]
  },
  {
   "cell_type": "code",
   "execution_count": 3,
   "id": "0ff07531",
   "metadata": {},
   "outputs": [],
   "source": [
    "url = \"http://ai.stanford.edu/~jkrause/car196/cars_train.tgz\"\n",
    "r = requests.get(url)\n",
    "open(curr_dir + \"/data/cars_train.tgz\", \"wb\").write(r.content)\n",
    "# unzip training folder\n",
    "with tarfile.open(curr_dir + \"/data/cars_train.tgz\", 'r:gz') as archive:\n",
    "    archive.extractall(curr_dir + \"/data\")"
   ]
  },
  {
   "cell_type": "code",
   "execution_count": 4,
   "id": "cdd60ac8",
   "metadata": {},
   "outputs": [],
   "source": [
    "#using loadmat() funtion of scipy.io to read matlab binary files\n",
    "cars_meta = scipy.io.loadmat(curr_dir + '/data/devkit/cars_meta.mat') \n",
    "class_names = pd.Series([str(name[0]) for name in cars_meta['class_names'][0]], name=\"class_name\")\n",
    "class_names.index+=1\n",
    "cars_train_annos = scipy.io.loadmat(curr_dir + '/data/devkit/cars_train_annos.mat')"
   ]
  },
  {
   "cell_type": "code",
   "execution_count": 5,
   "id": "51aaf9cf",
   "metadata": {},
   "outputs": [],
   "source": [
    "class_labels = pd.Series(\n",
    "    [int(class_label[0]) for class_label in cars_train_annos['annotations']['class'][0]],\n",
    "    name='class_idx'\n",
    ")\n",
    "file_names = pd.Series(\n",
    "    [str(file_name[0]) for file_name in cars_train_annos['annotations']['fname'][0]],\n",
    "    name='file_name'\n",
    ")"
   ]
  },
  {
   "cell_type": "code",
   "execution_count": 6,
   "id": "09604d87",
   "metadata": {},
   "outputs": [],
   "source": [
    "data_set = pd.concat([pd.Series(file_names.index), file_names], axis=1)\n",
    "data_set = data_set.rename(columns={0:'data_set_idx'})\n",
    "data_set['file_path'] = [curr_dir + \"/data/cars_train/\" + fname for fname in data_set['file_name']]\n",
    "data_set = pd.concat([data_set, class_labels], axis=1)\n",
    "data_set = data_set.merge(class_names, left_on='class_idx', right_on= class_names.index, how='left')"
   ]
  },
  {
   "cell_type": "code",
   "execution_count": 7,
   "id": "2730f9e0",
   "metadata": {},
   "outputs": [
    {
     "data": {
      "text/html": [
       "<div>\n",
       "<style scoped>\n",
       "    .dataframe tbody tr th:only-of-type {\n",
       "        vertical-align: middle;\n",
       "    }\n",
       "\n",
       "    .dataframe tbody tr th {\n",
       "        vertical-align: top;\n",
       "    }\n",
       "\n",
       "    .dataframe thead th {\n",
       "        text-align: right;\n",
       "    }\n",
       "</style>\n",
       "<table border=\"1\" class=\"dataframe\">\n",
       "  <thead>\n",
       "    <tr style=\"text-align: right;\">\n",
       "      <th></th>\n",
       "      <th>data_set_idx</th>\n",
       "      <th>file_name</th>\n",
       "      <th>file_path</th>\n",
       "      <th>class_idx</th>\n",
       "      <th>class_name</th>\n",
       "    </tr>\n",
       "  </thead>\n",
       "  <tbody>\n",
       "    <tr>\n",
       "      <th>0</th>\n",
       "      <td>0</td>\n",
       "      <td>00001.jpg</td>\n",
       "      <td>/Users/viv/my_data/work/statistics_canada/data...</td>\n",
       "      <td>14</td>\n",
       "      <td>Audi TTS Coupe 2012</td>\n",
       "    </tr>\n",
       "    <tr>\n",
       "      <th>1</th>\n",
       "      <td>1</td>\n",
       "      <td>00002.jpg</td>\n",
       "      <td>/Users/viv/my_data/work/statistics_canada/data...</td>\n",
       "      <td>3</td>\n",
       "      <td>Acura TL Sedan 2012</td>\n",
       "    </tr>\n",
       "    <tr>\n",
       "      <th>2</th>\n",
       "      <td>2</td>\n",
       "      <td>00003.jpg</td>\n",
       "      <td>/Users/viv/my_data/work/statistics_canada/data...</td>\n",
       "      <td>91</td>\n",
       "      <td>Dodge Dakota Club Cab 2007</td>\n",
       "    </tr>\n",
       "    <tr>\n",
       "      <th>3</th>\n",
       "      <td>3</td>\n",
       "      <td>00004.jpg</td>\n",
       "      <td>/Users/viv/my_data/work/statistics_canada/data...</td>\n",
       "      <td>134</td>\n",
       "      <td>Hyundai Sonata Hybrid Sedan 2012</td>\n",
       "    </tr>\n",
       "    <tr>\n",
       "      <th>4</th>\n",
       "      <td>4</td>\n",
       "      <td>00005.jpg</td>\n",
       "      <td>/Users/viv/my_data/work/statistics_canada/data...</td>\n",
       "      <td>106</td>\n",
       "      <td>Ford F-450 Super Duty Crew Cab 2012</td>\n",
       "    </tr>\n",
       "    <tr>\n",
       "      <th>...</th>\n",
       "      <td>...</td>\n",
       "      <td>...</td>\n",
       "      <td>...</td>\n",
       "      <td>...</td>\n",
       "      <td>...</td>\n",
       "    </tr>\n",
       "    <tr>\n",
       "      <th>8139</th>\n",
       "      <td>8139</td>\n",
       "      <td>08140.jpg</td>\n",
       "      <td>/Users/viv/my_data/work/statistics_canada/data...</td>\n",
       "      <td>78</td>\n",
       "      <td>Chrysler Town and Country Minivan 2012</td>\n",
       "    </tr>\n",
       "    <tr>\n",
       "      <th>8140</th>\n",
       "      <td>8140</td>\n",
       "      <td>08141.jpg</td>\n",
       "      <td>/Users/viv/my_data/work/statistics_canada/data...</td>\n",
       "      <td>196</td>\n",
       "      <td>smart fortwo Convertible 2012</td>\n",
       "    </tr>\n",
       "    <tr>\n",
       "      <th>8141</th>\n",
       "      <td>8141</td>\n",
       "      <td>08142.jpg</td>\n",
       "      <td>/Users/viv/my_data/work/statistics_canada/data...</td>\n",
       "      <td>163</td>\n",
       "      <td>Mercedes-Benz SL-Class Coupe 2009</td>\n",
       "    </tr>\n",
       "    <tr>\n",
       "      <th>8142</th>\n",
       "      <td>8142</td>\n",
       "      <td>08143.jpg</td>\n",
       "      <td>/Users/viv/my_data/work/statistics_canada/data...</td>\n",
       "      <td>112</td>\n",
       "      <td>Ford GT Coupe 2006</td>\n",
       "    </tr>\n",
       "    <tr>\n",
       "      <th>8143</th>\n",
       "      <td>8143</td>\n",
       "      <td>08144.jpg</td>\n",
       "      <td>/Users/viv/my_data/work/statistics_canada/data...</td>\n",
       "      <td>17</td>\n",
       "      <td>Audi 100 Sedan 1994</td>\n",
       "    </tr>\n",
       "  </tbody>\n",
       "</table>\n",
       "<p>8144 rows × 5 columns</p>\n",
       "</div>"
      ],
      "text/plain": [
       "      data_set_idx  file_name  \\\n",
       "0                0  00001.jpg   \n",
       "1                1  00002.jpg   \n",
       "2                2  00003.jpg   \n",
       "3                3  00004.jpg   \n",
       "4                4  00005.jpg   \n",
       "...            ...        ...   \n",
       "8139          8139  08140.jpg   \n",
       "8140          8140  08141.jpg   \n",
       "8141          8141  08142.jpg   \n",
       "8142          8142  08143.jpg   \n",
       "8143          8143  08144.jpg   \n",
       "\n",
       "                                              file_path  class_idx  \\\n",
       "0     /Users/viv/my_data/work/statistics_canada/data...         14   \n",
       "1     /Users/viv/my_data/work/statistics_canada/data...          3   \n",
       "2     /Users/viv/my_data/work/statistics_canada/data...         91   \n",
       "3     /Users/viv/my_data/work/statistics_canada/data...        134   \n",
       "4     /Users/viv/my_data/work/statistics_canada/data...        106   \n",
       "...                                                 ...        ...   \n",
       "8139  /Users/viv/my_data/work/statistics_canada/data...         78   \n",
       "8140  /Users/viv/my_data/work/statistics_canada/data...        196   \n",
       "8141  /Users/viv/my_data/work/statistics_canada/data...        163   \n",
       "8142  /Users/viv/my_data/work/statistics_canada/data...        112   \n",
       "8143  /Users/viv/my_data/work/statistics_canada/data...         17   \n",
       "\n",
       "                                  class_name  \n",
       "0                        Audi TTS Coupe 2012  \n",
       "1                        Acura TL Sedan 2012  \n",
       "2                 Dodge Dakota Club Cab 2007  \n",
       "3           Hyundai Sonata Hybrid Sedan 2012  \n",
       "4        Ford F-450 Super Duty Crew Cab 2012  \n",
       "...                                      ...  \n",
       "8139  Chrysler Town and Country Minivan 2012  \n",
       "8140           smart fortwo Convertible 2012  \n",
       "8141       Mercedes-Benz SL-Class Coupe 2009  \n",
       "8142                      Ford GT Coupe 2006  \n",
       "8143                     Audi 100 Sedan 1994  \n",
       "\n",
       "[8144 rows x 5 columns]"
      ]
     },
     "execution_count": 7,
     "metadata": {},
     "output_type": "execute_result"
    }
   ],
   "source": [
    "data_set"
   ]
  },
  {
   "cell_type": "code",
   "execution_count": 8,
   "id": "a7d63e3a",
   "metadata": {},
   "outputs": [
    {
     "data": {
      "text/plain": [
       "GMC Savana Van 2012                                    68\n",
       "Chrysler 300 SRT-8 2010                                49\n",
       "Mercedes-Benz 300-Class Convertible 1993               48\n",
       "Mitsubishi Lancer Sedan 2012                           48\n",
       "Jaguar XK XKR 2012                                     47\n",
       "                                                       ..\n",
       "Rolls-Royce Phantom Drophead Coupe Convertible 2012    31\n",
       "Chevrolet Express Cargo Van 2007                       30\n",
       "Maybach Landaulet Convertible 2012                     29\n",
       "FIAT 500 Abarth 2012                                   28\n",
       "Hyundai Accent Sedan 2012                              24\n",
       "Name: class_name, Length: 196, dtype: int64"
      ]
     },
     "execution_count": 8,
     "metadata": {},
     "output_type": "execute_result"
    }
   ],
   "source": [
    "data_set.class_name.value_counts()"
   ]
  },
  {
   "cell_type": "code",
   "execution_count": 9,
   "id": "d3b8009f",
   "metadata": {},
   "outputs": [],
   "source": [
    "# Function to get image as numpy array using file_path\n",
    "def get_image_from_path(file_path):\n",
    "    image = imread(file_path)\n",
    "    return image"
   ]
  },
  {
   "cell_type": "code",
   "execution_count": 10,
   "id": "72e4c315",
   "metadata": {},
   "outputs": [
    {
     "name": "stdout",
     "output_type": "stream",
     "text": [
      "Bentley Continental GT Coupe 2007\n"
     ]
    },
    {
     "data": {
      "image/png": "[encoded data removed]",
      "text/plain": [
       "<Figure size 432x288 with 1 Axes>"
      ]
     },
     "metadata": {
      "needs_background": "light"
     },
     "output_type": "display_data"
    }
   ],
   "source": [
    "# Looking at a random image and its class\n",
    "plt.imshow(get_image_from_path(data_set['file_path'][1000]))\n",
    "print(data_set['class_name'][1000])"
   ]
  },
  {
   "cell_type": "markdown",
   "id": "644b4cf3",
   "metadata": {},
   "source": [
    "## Task 2: Data cleaning"
   ]
  },
  {
   "cell_type": "code",
   "execution_count": 11,
   "id": "5eed2c4e",
   "metadata": {},
   "outputs": [],
   "source": [
    "# function to check if the image located at the given path is 3-channel or not\n",
    "def check_RGB(file_path):\n",
    "    try:\n",
    "        image = imread(file_path) # read in an image\n",
    "        if image.ndim != 3:\n",
    "            return False\n",
    "        else:\n",
    "            return True\n",
    "    except:\n",
    "        return False"
   ]
  },
  {
   "cell_type": "code",
   "execution_count": 12,
   "id": "12ab71e7",
   "metadata": {},
   "outputs": [
    {
     "name": "stdout",
     "output_type": "stream",
     "text": [
      "CPU times: user 1min 30s, sys: 23.6 s, total: 1min 54s\n",
      "Wall time: 2min 16s\n"
     ]
    }
   ],
   "source": [
    "%%time\n",
    "# initiate a new column in data_set with a is_RGB flag\n",
    "# this cell might take a bit to run\n",
    "data_set['is_RGB'] = data_set['file_path'].map(lambda file_path: check_RGB(file_path))"
   ]
  },
  {
   "cell_type": "code",
   "execution_count": 13,
   "id": "c06fc8bb",
   "metadata": {},
   "outputs": [],
   "source": [
    "# function to delete file at the mentioned file_path\n",
    "def delete_files(file_paths):\n",
    "    for file_path in file_paths:\n",
    "        try:\n",
    "            os.remove(file_path)\n",
    "        except:\n",
    "            continue"
   ]
  },
  {
   "cell_type": "code",
   "execution_count": 14,
   "id": "4d25d2bd",
   "metadata": {},
   "outputs": [],
   "source": [
    "# function to delete all non-RGB images from the disk\n",
    "def delete_non_RGB_images(file_paths, folder_name):\n",
    "    count1 = 0\n",
    "    for path in os.listdir(curr_dir + \"/data/\" + folder_name):\n",
    "        # check if current path is a file\n",
    "        if os.path.isfile(os.path.join(curr_dir + \"/data/\" + folder_name, path)):\n",
    "            count1 += 1\n",
    "    print('File count before deletion:', count1)\n",
    "\n",
    "    delete_files(file_paths)\n",
    "    \n",
    "    count2 = 0\n",
    "    for path in os.listdir(curr_dir + \"/data/\" + folder_name):\n",
    "        # check if current path is a file\n",
    "        if os.path.isfile(os.path.join(curr_dir + \"/data/\" + folder_name, path)):\n",
    "            count2 += 1\n",
    "    print('File count after deletion:', count2)\n",
    "    if count1 == count2:\n",
    "        return \"Failed\"\n",
    "    else: \n",
    "        return \"Success\""
   ]
  },
  {
   "cell_type": "code",
   "execution_count": 15,
   "id": "e8ae3ef8",
   "metadata": {},
   "outputs": [
    {
     "name": "stdout",
     "output_type": "stream",
     "text": [
      "File count before deletion: 8144\n",
      "File count after deletion: 8126\n"
     ]
    }
   ],
   "source": [
    "delete_status = delete_non_RGB_images(data_set[data_set['is_RGB']==False].file_path, \"cars_train\")\n",
    "data_set = data_set.loc[data_set.is_RGB==True]"
   ]
  },
  {
   "cell_type": "markdown",
   "id": "a2a4b221",
   "metadata": {},
   "source": [
    "## Task 3: Dataset representation\n",
    "\n",
    "1. Load pretrained resnet18 model\n",
    "2. Replace the fully connected final layer with identity layer\n",
    "3. Create transformer to preprocess images\n",
    "4. Create function to forward pass one image at a time and return embeddings\n",
    "5. Save embeddings to disk"
   ]
  },
  {
   "cell_type": "code",
   "execution_count": 17,
   "id": "fe4f9362",
   "metadata": {
    "scrolled": false
   },
   "outputs": [
    {
     "data": {
      "text/plain": [
       "ResNet(\n",
       "  (conv1): Conv2d(3, 64, kernel_size=(7, 7), stride=(2, 2), padding=(3, 3), bias=False)\n",
       "  (bn1): BatchNorm2d(64, eps=1e-05, momentum=0.1, affine=True, track_running_stats=True)\n",
       "  (relu): ReLU(inplace=True)\n",
       "  (maxpool): MaxPool2d(kernel_size=3, stride=2, padding=1, dilation=1, ceil_mode=False)\n",
       "  (layer1): Sequential(\n",
       "    (0): BasicBlock(\n",
       "      (conv1): Conv2d(64, 64, kernel_size=(3, 3), stride=(1, 1), padding=(1, 1), bias=False)\n",
       "      (bn1): BatchNorm2d(64, eps=1e-05, momentum=0.1, affine=True, track_running_stats=True)\n",
       "      (relu): ReLU(inplace=True)\n",
       "      (conv2): Conv2d(64, 64, kernel_size=(3, 3), stride=(1, 1), padding=(1, 1), bias=False)\n",
       "      (bn2): BatchNorm2d(64, eps=1e-05, momentum=0.1, affine=True, track_running_stats=True)\n",
       "    )\n",
       "    (1): BasicBlock(\n",
       "      (conv1): Conv2d(64, 64, kernel_size=(3, 3), stride=(1, 1), padding=(1, 1), bias=False)\n",
       "      (bn1): BatchNorm2d(64, eps=1e-05, momentum=0.1, affine=True, track_running_stats=True)\n",
       "      (relu): ReLU(inplace=True)\n",
       "      (conv2): Conv2d(64, 64, kernel_size=(3, 3), stride=(1, 1), padding=(1, 1), bias=False)\n",
       "      (bn2): BatchNorm2d(64, eps=1e-05, momentum=0.1, affine=True, track_running_stats=True)\n",
       "    )\n",
       "  )\n",
       "  (layer2): Sequential(\n",
       "    (0): BasicBlock(\n",
       "      (conv1): Conv2d(64, 128, kernel_size=(3, 3), stride=(2, 2), padding=(1, 1), bias=False)\n",
       "      (bn1): BatchNorm2d(128, eps=1e-05, momentum=0.1, affine=True, track_running_stats=True)\n",
       "      (relu): ReLU(inplace=True)\n",
       "      (conv2): Conv2d(128, 128, kernel_size=(3, 3), stride=(1, 1), padding=(1, 1), bias=False)\n",
       "      (bn2): BatchNorm2d(128, eps=1e-05, momentum=0.1, affine=True, track_running_stats=True)\n",
       "      (downsample): Sequential(\n",
       "        (0): Conv2d(64, 128, kernel_size=(1, 1), stride=(2, 2), bias=False)\n",
       "        (1): BatchNorm2d(128, eps=1e-05, momentum=0.1, affine=True, track_running_stats=True)\n",
       "      )\n",
       "    )\n",
       "    (1): BasicBlock(\n",
       "      (conv1): Conv2d(128, 128, kernel_size=(3, 3), stride=(1, 1), padding=(1, 1), bias=False)\n",
       "      (bn1): BatchNorm2d(128, eps=1e-05, momentum=0.1, affine=True, track_running_stats=True)\n",
       "      (relu): ReLU(inplace=True)\n",
       "      (conv2): Conv2d(128, 128, kernel_size=(3, 3), stride=(1, 1), padding=(1, 1), bias=False)\n",
       "      (bn2): BatchNorm2d(128, eps=1e-05, momentum=0.1, affine=True, track_running_stats=True)\n",
       "    )\n",
       "  )\n",
       "  (layer3): Sequential(\n",
       "    (0): BasicBlock(\n",
       "      (conv1): Conv2d(128, 256, kernel_size=(3, 3), stride=(2, 2), padding=(1, 1), bias=False)\n",
       "      (bn1): BatchNorm2d(256, eps=1e-05, momentum=0.1, affine=True, track_running_stats=True)\n",
       "      (relu): ReLU(inplace=True)\n",
       "      (conv2): Conv2d(256, 256, kernel_size=(3, 3), stride=(1, 1), padding=(1, 1), bias=False)\n",
       "      (bn2): BatchNorm2d(256, eps=1e-05, momentum=0.1, affine=True, track_running_stats=True)\n",
       "      (downsample): Sequential(\n",
       "        (0): Conv2d(128, 256, kernel_size=(1, 1), stride=(2, 2), bias=False)\n",
       "        (1): BatchNorm2d(256, eps=1e-05, momentum=0.1, affine=True, track_running_stats=True)\n",
       "      )\n",
       "    )\n",
       "    (1): BasicBlock(\n",
       "      (conv1): Conv2d(256, 256, kernel_size=(3, 3), stride=(1, 1), padding=(1, 1), bias=False)\n",
       "      (bn1): BatchNorm2d(256, eps=1e-05, momentum=0.1, affine=True, track_running_stats=True)\n",
       "      (relu): ReLU(inplace=True)\n",
       "      (conv2): Conv2d(256, 256, kernel_size=(3, 3), stride=(1, 1), padding=(1, 1), bias=False)\n",
       "      (bn2): BatchNorm2d(256, eps=1e-05, momentum=0.1, affine=True, track_running_stats=True)\n",
       "    )\n",
       "  )\n",
       "  (layer4): Sequential(\n",
       "    (0): BasicBlock(\n",
       "      (conv1): Conv2d(256, 512, kernel_size=(3, 3), stride=(2, 2), padding=(1, 1), bias=False)\n",
       "      (bn1): BatchNorm2d(512, eps=1e-05, momentum=0.1, affine=True, track_running_stats=True)\n",
       "      (relu): ReLU(inplace=True)\n",
       "      (conv2): Conv2d(512, 512, kernel_size=(3, 3), stride=(1, 1), padding=(1, 1), bias=False)\n",
       "      (bn2): BatchNorm2d(512, eps=1e-05, momentum=0.1, affine=True, track_running_stats=True)\n",
       "      (downsample): Sequential(\n",
       "        (0): Conv2d(256, 512, kernel_size=(1, 1), stride=(2, 2), bias=False)\n",
       "        (1): BatchNorm2d(512, eps=1e-05, momentum=0.1, affine=True, track_running_stats=True)\n",
       "      )\n",
       "    )\n",
       "    (1): BasicBlock(\n",
       "      (conv1): Conv2d(512, 512, kernel_size=(3, 3), stride=(1, 1), padding=(1, 1), bias=False)\n",
       "      (bn1): BatchNorm2d(512, eps=1e-05, momentum=0.1, affine=True, track_running_stats=True)\n",
       "      (relu): ReLU(inplace=True)\n",
       "      (conv2): Conv2d(512, 512, kernel_size=(3, 3), stride=(1, 1), padding=(1, 1), bias=False)\n",
       "      (bn2): BatchNorm2d(512, eps=1e-05, momentum=0.1, affine=True, track_running_stats=True)\n",
       "    )\n",
       "  )\n",
       "  (avgpool): AdaptiveAvgPool2d(output_size=(1, 1))\n",
       "  (fc): Identity()\n",
       ")"
      ]
     },
     "execution_count": 17,
     "metadata": {},
     "output_type": "execute_result"
    }
   ],
   "source": [
    "# loading a pretrained resnet18 model\n",
    "model = models.resnet18(pretrained=True)\n",
    "\n",
    "# replacing the mmodel.fc layer with Identity layer with 512 out_features\n",
    "model.fc = nn.Identity()\n",
    "\n",
    "#evaluation mode\n",
    "model.eval()"
   ]
  },
  {
   "cell_type": "code",
   "execution_count": 18,
   "id": "e5c50ac5",
   "metadata": {},
   "outputs": [],
   "source": [
    "# Transformer to preprocess images\n",
    "from torchvision import transforms\n",
    "transforms = transforms.Compose([\n",
    "    transforms.Resize((224, 224)),\n",
    "    transforms.ToTensor()\n",
    "])"
   ]
  },
  {
   "cell_type": "markdown",
   "id": "0de1f7e3",
   "metadata": {},
   "source": [
    "There's scope for enhancements in the above transformer, but for now we will go with a simple one"
   ]
  },
  {
   "cell_type": "code",
   "execution_count": 19,
   "id": "7276e00c",
   "metadata": {},
   "outputs": [],
   "source": [
    "#function to forward pass one image at a time and return embeddings in the specified format\n",
    "def get_resnet18_output(data_set, model, transforms):\n",
    "    embeddings_dict = dict()\n",
    "    for index, row in data_set.iterrows():\n",
    "        img = Image.open(row['file_path']) \n",
    "        img_tensor = transforms(img).reshape((1,3,224,224))\n",
    "        resnet18_output = model(img_tensor).reshape(512)\n",
    "        dict_ele = {\n",
    "            \"embedding\": resnet18_output.detach().numpy(),\n",
    "            \"class_idx\": row['class_idx'],\n",
    "            \"labelled\": True\n",
    "        }\n",
    "        embeddings_dict[index] = dict_ele\n",
    "    return embeddings_dict"
   ]
  },
  {
   "cell_type": "code",
   "execution_count": 20,
   "id": "d670a579",
   "metadata": {},
   "outputs": [
    {
     "name": "stdout",
     "output_type": "stream",
     "text": [
      "CPU times: user 15min 24s, sys: 2min 45s, total: 18min 10s\n",
      "Wall time: 17min 56s\n"
     ]
    }
   ],
   "source": [
    "%%time\n",
    "# running the function with our data_set, it's preferrable to to use GPU for faster processing\n",
    "embeddings_dict = get_resnet18_output(data_set, model, transforms)"
   ]
  },
  {
   "cell_type": "code",
   "execution_count": 21,
   "id": "6a5217f5",
   "metadata": {},
   "outputs": [],
   "source": [
    "# saving our dict\n",
    "torch.save(embeddings_dict, curr_dir + '/embeddings_dict.pt')"
   ]
  },
  {
   "cell_type": "code",
   "execution_count": 22,
   "id": "95d0e3c7",
   "metadata": {},
   "outputs": [],
   "source": [
    "# loading our dict\n",
    "embeddings_dict = torch.load(curr_dir + '/embeddings_dict.pt')"
   ]
  },
  {
   "cell_type": "code",
   "execution_count": 23,
   "id": "5849758f",
   "metadata": {},
   "outputs": [
    {
     "data": {
      "text/plain": [
       "{'embedding': array([1.22226143e+00, 2.40648603e+00, 3.91982317e+00, 1.81433630e+00,\n",
       "        2.04791093e+00, 1.14243197e+00, 1.14765513e+00, 1.19672883e+00,\n",
       "        2.06263408e-01, 1.67321301e+00, 4.35523182e-01, 2.74132729e-01,\n",
       "        1.72173828e-02, 6.75330520e-01, 3.56365085e-01, 1.19259834e+00,\n",
       "        3.49359781e-01, 8.32160771e-01, 2.57147253e-01, 3.60453039e-01,\n",
       "        7.04668641e-01, 8.23746502e-01, 1.24813759e+00, 6.05954647e-01,\n",
       "        8.00702333e-01, 8.43546629e-01, 4.40200537e-01, 2.24427938e+00,\n",
       "        4.65507984e-01, 6.67793870e-01, 2.58681327e-01, 1.01118779e+00,\n",
       "        4.39979696e+00, 9.50926721e-01, 6.71991169e-01, 3.46205145e-01,\n",
       "        5.88680863e-01, 2.80553281e-01, 4.52471912e-01, 8.85762200e-02,\n",
       "        8.57093871e-01, 5.75312316e-01, 5.53369403e-01, 4.41179663e-01,\n",
       "        2.87952214e-01, 1.75990641e+00, 3.45456183e-01, 5.59554547e-02,\n",
       "        7.80530274e-01, 4.37005490e-01, 1.52300715e+00, 3.70110810e-01,\n",
       "        6.78167403e-01, 2.87390620e-01, 1.74700212e+00, 1.81488872e-01,\n",
       "        7.31001258e-01, 2.95152217e-02, 4.53809977e-01, 6.33452952e-01,\n",
       "        1.21387862e-01, 3.48592758e-01, 4.08268392e-01, 1.04656827e+00,\n",
       "        1.26466739e+00, 4.80818897e-01, 3.75562251e-01, 1.99042320e-01,\n",
       "        9.32870388e-01, 5.73847413e-01, 1.39787748e-01, 2.61856616e-01,\n",
       "        1.49734604e+00, 2.82693386e-01, 2.02193439e-01, 3.75922948e-01,\n",
       "        4.38998014e-01, 1.33380079e+00, 4.01891828e-01, 1.65331602e-01,\n",
       "        2.08537474e-01, 1.25767732e+00, 8.48295331e-01, 1.68146344e-03,\n",
       "        1.29458576e-01, 1.12091076e+00, 1.95536718e-01, 5.88094234e-01,\n",
       "        6.91968977e-01, 1.14860547e+00, 7.51442015e-01, 5.87646961e-01,\n",
       "        1.37875065e-01, 1.37374729e-01, 2.30266646e-01, 6.55284822e-01,\n",
       "        4.52632934e-01, 9.43392456e-01, 6.43852174e-01, 2.17086792e+00,\n",
       "        1.60120323e-01, 1.74984860e+00, 1.07407570e+00, 7.27644622e-01,\n",
       "        2.70241231e-01, 4.69299614e-01, 2.62809277e-01, 7.34103560e-01,\n",
       "        5.86807311e-01, 9.74614620e-01, 2.27539629e-01, 6.75276995e-01,\n",
       "        1.41797557e-01, 3.89726341e-01, 8.46643839e-03, 1.22181618e+00,\n",
       "        3.16259599e+00, 5.35891533e-01, 1.25179040e+00, 1.05307662e+00,\n",
       "        1.67131233e+00, 1.73708051e-02, 2.55809903e+00, 1.33454049e+00,\n",
       "        6.64288551e-02, 4.54196811e-01, 4.61662292e-01, 3.11517906e+00,\n",
       "        2.16132498e+00, 7.70228624e-01, 2.55027741e-01, 1.38124868e-01,\n",
       "        3.39852691e-01, 7.42256701e-01, 1.54127687e-01, 2.31887385e-01,\n",
       "        4.22974646e-01, 7.26531297e-02, 1.22942257e+00, 1.36495066e+00,\n",
       "        1.98190475e+00, 2.98282150e-02, 2.06184340e+00, 1.46163166e+00,\n",
       "        9.21413362e-01, 2.94233292e-01, 1.70329690e+00, 4.28518891e-01,\n",
       "        3.66556972e-01, 2.61391473e+00, 1.83488095e+00, 9.57375765e-01,\n",
       "        1.97863683e-01, 1.52828860e+00, 1.57764637e+00, 8.61496985e-01,\n",
       "        8.71069670e-01, 1.00418508e+00, 5.09495854e-01, 1.16971329e-01,\n",
       "        5.84779270e-02, 3.12720865e-01, 3.84176463e-01, 6.00090861e-01,\n",
       "        8.89579594e-01, 1.56199425e-01, 1.96984971e+00, 1.48158097e+00,\n",
       "        6.23897731e-01, 3.25283587e-01, 1.32171392e+00, 3.93488318e-01,\n",
       "        8.36560905e-01, 2.06864938e-01, 1.60151827e+00, 7.30103374e-01,\n",
       "        3.35203075e+00, 4.49829489e-01, 1.92103052e+00, 7.55576134e-01,\n",
       "        1.28654301e-01, 4.04157281e-01, 3.23294854e+00, 4.78278339e-01,\n",
       "        2.10732532e+00, 1.52514145e-01, 6.25875056e-01, 8.03463161e-01,\n",
       "        4.57738131e-01, 1.73687026e-01, 7.98970103e-01, 1.94706395e-01,\n",
       "        1.95932508e+00, 7.70778477e-01, 2.10941267e+00, 7.15394318e-01,\n",
       "        2.73322195e-01, 1.27802745e-01, 7.62542784e-01, 2.50488311e-01,\n",
       "        2.87790745e-01, 1.44944772e-01, 1.97813606e+00, 1.96272209e-01,\n",
       "        5.39558113e-01, 2.87614846e+00, 5.97831666e-01, 1.82709599e+00,\n",
       "        1.46998954e+00, 6.72857344e-01, 4.25124705e-01, 5.68784475e-01,\n",
       "        9.72210467e-01, 2.00138068e+00, 5.26921749e-01, 7.91182935e-01,\n",
       "        5.04322052e-01, 2.29365706e-01, 1.67789316e+00, 1.22340894e+00,\n",
       "        5.28905451e-01, 6.14059150e-01, 8.69524121e-01, 3.61733675e-01,\n",
       "        8.06146637e-02, 4.05534476e-01, 5.74791193e-01, 1.06326151e+00,\n",
       "        8.62574950e-02, 3.20200950e-01, 1.02755316e-01, 1.07168548e-01,\n",
       "        8.04689467e-01, 3.58829349e-01, 6.60019517e-01, 1.31803608e+00,\n",
       "        7.40561962e-01, 8.96765709e-01, 3.22834626e-02, 2.82028913e-01,\n",
       "        1.31642187e+00, 7.63661981e-01, 1.93119609e+00, 2.21737456e+00,\n",
       "        8.42680454e-01, 8.60306174e-02, 3.95486474e-01, 3.90037626e-01,\n",
       "        2.08529338e-01, 2.14696512e-01, 9.17196453e-01, 4.62448634e-02,\n",
       "        1.31523728e-01, 6.86590254e-01, 1.86573967e-01, 2.57594872e+00,\n",
       "        1.89366236e-01, 7.52654821e-02, 1.38769126e+00, 2.83390451e-02,\n",
       "        1.36870277e+00, 2.49617124e+00, 1.22531772e+00, 1.15085638e+00,\n",
       "        6.49644285e-02, 2.04936838e+00, 5.22792824e-02, 7.15187132e-01,\n",
       "        2.63765073e+00, 1.23468089e+00, 1.80303141e-01, 3.21057886e-01,\n",
       "        1.88271189e-03, 1.21747327e+00, 1.72916818e-02, 9.37768102e-01,\n",
       "        1.09132171e+00, 2.21050644e+00, 2.43864155e+00, 1.86798918e+00,\n",
       "        6.84252858e-01, 2.16654629e-01, 1.94163054e-01, 2.03542209e+00,\n",
       "        1.03990901e+00, 6.65445626e-01, 1.58567265e-01, 1.91073084e+00,\n",
       "        2.31682986e-01, 4.32790548e-01, 1.30128920e+00, 1.48936808e+00,\n",
       "        9.79134619e-01, 3.20201516e-01, 4.18092944e-02, 9.49338496e-01,\n",
       "        1.20532715e+00, 2.75219440e-01, 5.36210001e-01, 7.20260665e-02,\n",
       "        3.96878153e-01, 1.65245295e-01, 4.43764508e-01, 1.07559049e+00,\n",
       "        1.38135874e+00, 6.21824145e-01, 2.65672415e-01, 3.62067044e-01,\n",
       "        7.91229963e-01, 7.42495656e-01, 1.69100806e-01, 1.15915418e+00,\n",
       "        1.32755983e+00, 1.04435958e-01, 3.73093009e-01, 2.91541219e-01,\n",
       "        2.29521453e-01, 6.26303077e-01, 4.57910329e-01, 7.24255562e-01,\n",
       "        6.41754717e-02, 4.67624813e-01, 2.07304627e-01, 1.96012962e+00,\n",
       "        1.74555957e-01, 1.84037358e-01, 2.22916985e+00, 2.54666781e+00,\n",
       "        7.65823543e-01, 6.36130393e-01, 2.03737164e+00, 1.01779208e-01,\n",
       "        8.81505311e-01, 1.52527738e+00, 2.06688261e+00, 2.48445243e-01,\n",
       "        3.71226072e-01, 1.95745200e-01, 9.79767025e-01, 4.74925898e-03,\n",
       "        8.45235765e-01, 4.92542505e-01, 4.67029482e-01, 2.59704828e-01,\n",
       "        1.45095861e+00, 9.56645429e-01, 4.39450592e-01, 1.62560895e-01,\n",
       "        2.26369309e+00, 6.92006230e-01, 5.94967380e-02, 5.12129903e-01,\n",
       "        4.43069577e-01, 5.91105998e-01, 1.73775181e-01, 3.30323696e-01,\n",
       "        2.18642998e+00, 8.78644228e-01, 1.97252899e-01, 4.97862101e-01,\n",
       "        3.27135742e-01, 6.68395460e-02, 1.54839337e+00, 1.19475150e+00,\n",
       "        2.12649131e+00, 6.44982457e-01, 6.11867845e-01, 1.22933316e+00,\n",
       "        1.63641945e-01, 7.11453736e-01, 2.58341819e-01, 6.15656555e-01,\n",
       "        1.37288964e+00, 2.85855085e-02, 1.69420168e-01, 4.24940623e-02,\n",
       "        2.17658803e-01, 8.13098848e-01, 7.29971111e-01, 8.96097273e-02,\n",
       "        1.59591641e-02, 2.82172114e-01, 2.27551460e+00, 8.53374481e-01,\n",
       "        1.11047733e+00, 2.90767670e-01, 1.66041803e+00, 8.86487126e-01,\n",
       "        7.12912500e-01, 1.99001789e+00, 1.06003690e+00, 7.80724645e-01,\n",
       "        1.81258249e+00, 8.64647448e-01, 1.22545624e+00, 4.54084903e-01,\n",
       "        1.29827559e-01, 1.40422320e+00, 5.72618470e-02, 1.25590503e+00,\n",
       "        1.40916467e-01, 4.32970703e-01, 6.89442396e-01, 8.00336003e-01,\n",
       "        9.03410316e-01, 5.59301555e-01, 7.67829955e-01, 9.49012816e-01,\n",
       "        1.25328875e+00, 1.00448057e-01, 1.68871999e-01, 5.90236783e-01,\n",
       "        4.07414496e-01, 9.86754060e-01, 1.16599917e-01, 9.75329652e-02,\n",
       "        8.83954763e-02, 1.08859849e+00, 2.37468898e-01, 1.57916337e-01,\n",
       "        9.19991016e-01, 1.47712976e-01, 5.24202406e-01, 1.24573505e+00,\n",
       "        1.06828249e+00, 1.09531260e+00, 1.50038362e+00, 3.08496785e+00,\n",
       "        1.14015305e+00, 1.22547698e+00, 1.67782474e-02, 8.31658185e-01,\n",
       "        6.91188633e-01, 9.70290720e-01, 8.01044762e-01, 1.38784349e+00,\n",
       "        1.53463709e+00, 1.37215364e+00, 2.79812843e-01, 1.31636667e+00,\n",
       "        4.89293337e-01, 1.49955666e+00, 1.49278909e-01, 4.62447077e-01,\n",
       "        8.61726642e-01, 9.51847553e-01, 2.24979615e+00, 3.30233634e-01,\n",
       "        5.27083397e-01, 7.74459064e-01, 2.47156262e-01, 4.74590659e-01,\n",
       "        3.09505701e-01, 7.73766115e-02, 3.74764025e-01, 1.23993330e-01,\n",
       "        8.55416954e-01, 1.73680079e+00, 4.20423925e-01, 1.12001705e+00,\n",
       "        1.79509342e+00, 1.97067356e+00, 1.01771259e+00, 9.65861678e-01,\n",
       "        8.08084756e-02, 7.27787793e-01, 2.27592543e-01, 1.35110784e+00,\n",
       "        3.34404278e+00, 5.69491446e-01, 4.89196539e-01, 1.80237398e-01,\n",
       "        1.59669352e+00, 1.56186354e+00, 4.00152564e-01, 2.26621628e-02,\n",
       "        6.53390229e-01, 3.69817257e-01, 3.19924742e-01, 2.80511230e-01,\n",
       "        1.54301897e-01, 7.35241890e-01, 3.77019821e-03, 1.33778846e+00,\n",
       "        5.20270348e-01, 1.42812148e-01, 8.21867347e-01, 1.16620444e-01,\n",
       "        1.98240072e-01, 1.75915527e+00, 3.16989869e-01, 2.15428144e-01,\n",
       "        1.60566717e-02, 1.59839368e+00, 2.52446461e+00, 7.04976916e-01,\n",
       "        1.41479284e-01, 5.12252331e-01, 1.39928317e+00, 6.41604960e-01,\n",
       "        8.58964980e-01, 7.26356030e-01, 2.78556436e-01, 1.27429402e+00,\n",
       "        1.66063309e-01, 7.96922266e-01, 6.83116242e-02, 1.36128306e-01,\n",
       "        8.13051879e-01, 3.49711442e+00, 4.22292389e-02, 3.27560663e-01],\n",
       "       dtype=float32),\n",
       " 'class_idx': 14,\n",
       " 'labelled': True}"
      ]
     },
     "execution_count": 23,
     "metadata": {},
     "output_type": "execute_result"
    }
   ],
   "source": [
    "embeddings_dict[0]"
   ]
  },
  {
   "cell_type": "markdown",
   "id": "687d311a",
   "metadata": {},
   "source": [
    "## Task 4: Build a partially labelled dataset\n",
    "\n",
    "I created a function that takes in the embeddings_dict that we have finalized and a proportion and splits it into two groups using the function split_series_min_1 created above"
   ]
  },
  {
   "cell_type": "code",
   "execution_count": 24,
   "id": "4d34b5ca",
   "metadata": {},
   "outputs": [],
   "source": [
    "def unlable_dataset(embeddings_dict, proportion):\n",
    "    dataset_labels = pd.Series([\n",
    "    values['class_idx'] for values in embeddings_dict.values()], \n",
    "    index=embeddings_dict.keys(), name='class_idx'\n",
    "    )\n",
    "\n",
    "    label_indices, unlable_indices = split_series_min_1(dataset_labels, proportion)\n",
    "    \n",
    "    for i in unlable_indices:\n",
    "        embeddings_dict[i]['labelled'] = False\n",
    "    for i in label_indices:\n",
    "        embeddings_dict[i]['labelled'] = True\n",
    "    \n",
    "    return embeddings_dict"
   ]
  },
  {
   "cell_type": "code",
   "execution_count": 25,
   "id": "7b6849da",
   "metadata": {
    "scrolled": false
   },
   "outputs": [],
   "source": [
    "# running the function on our dataset and saving the result into dataset_dict_main to be used in all the further steps\n",
    "import copy\n",
    "dataset_dict_main = unlable_dataset(copy.deepcopy(embeddings_dict), 0.60)"
   ]
  },
  {
   "cell_type": "code",
   "execution_count": 26,
   "id": "fa91cea7",
   "metadata": {},
   "outputs": [
    {
     "data": {
      "text/plain": [
       "8126"
      ]
     },
     "execution_count": 26,
     "metadata": {},
     "output_type": "execute_result"
    }
   ],
   "source": [
    "len(dataset_dict_main)"
   ]
  },
  {
   "cell_type": "markdown",
   "id": "21685cb5",
   "metadata": {},
   "source": [
    "## Task 5: Create train/validation split\n",
    "\n",
    "1. Get embeddings from the final dataset and push into list X\n",
    "2. Get class idices and push into list y\n",
    "3. Split X and Y in the proportion passed as an argument"
   ]
  },
  {
   "cell_type": "code",
   "execution_count": 27,
   "id": "cb4606a3",
   "metadata": {},
   "outputs": [],
   "source": [
    "def custom_train_test_split(data_set_inputs, data_set_labels, training_proportion):\n",
    "    X_train, X_test, y_train, y_test = train_test_split(data_set_inputs,\n",
    "                                                        data_set_labels, \n",
    "                                                        test_size=1-training_proportion,\n",
    "                                                        random_state=42)\n",
    "    print(\"train test split\")\n",
    "    print(len(X_train), len(y_train), len(X_test), len(y_test))\n",
    "    return X_train, y_train, X_test, y_test"
   ]
  },
  {
   "cell_type": "code",
   "execution_count": 28,
   "id": "99256682",
   "metadata": {},
   "outputs": [
    {
     "name": "stdout",
     "output_type": "stream",
     "text": [
      "train test split\n",
      "2600 2600 650 650\n"
     ]
    }
   ],
   "source": [
    "X = [values['embedding'] for values in dataset_dict_main.values() if values['labelled'] == True]\n",
    "y = [values['class_idx'] for values in dataset_dict_main.values() if values['labelled'] == True]\n",
    "\n",
    "training_inputs, training_labels, test_inputs, test_labels = custom_train_test_split(X, y, .80)"
   ]
  },
  {
   "cell_type": "markdown",
   "id": "e46ed04e",
   "metadata": {},
   "source": [
    "## Task 6: Create experiment(s) to convince clients that more labelled data will improve model performance\n",
    "\n",
    "1. Run SGD Classifier with default parameters\n",
    "2. Split dataset into different proportions and check accuracy score\n",
    "3. Plot the improvement"
   ]
  },
  {
   "cell_type": "code",
   "execution_count": 31,
   "id": "95721fd2",
   "metadata": {},
   "outputs": [
    {
     "data": {
      "text/plain": [
       "Pipeline(steps=[('standardscaler', StandardScaler()),\n",
       "                ('sgdclassifier', SGDClassifier())])"
      ]
     },
     "execution_count": 31,
     "metadata": {},
     "output_type": "execute_result"
    }
   ],
   "source": [
    "from sklearn.linear_model import SGDClassifier\n",
    "from sklearn.preprocessing import StandardScaler\n",
    "from sklearn.pipeline import make_pipeline\n",
    "\n",
    "model = make_pipeline(StandardScaler(),\n",
    "                    SGDClassifier(max_iter=1000, loss='hinge'))\n",
    "model.fit(training_inputs, training_labels)"
   ]
  },
  {
   "cell_type": "markdown",
   "id": "c3a1a2ca",
   "metadata": {},
   "source": [
    "There's a lot of scope for enhancing the above model through hyperparameter tuning"
   ]
  },
  {
   "cell_type": "markdown",
   "id": "10590b61",
   "metadata": {},
   "source": [
    "We get baseline accuracy of 17%"
   ]
  },
  {
   "cell_type": "code",
   "execution_count": 32,
   "id": "bc17cf09",
   "metadata": {},
   "outputs": [
    {
     "data": {
      "text/plain": [
       "0.17384615384615384"
      ]
     },
     "execution_count": 32,
     "metadata": {},
     "output_type": "execute_result"
    }
   ],
   "source": [
    "model.score(test_inputs, test_labels)"
   ]
  },
  {
   "cell_type": "code",
   "execution_count": 33,
   "id": "ac76747b",
   "metadata": {},
   "outputs": [
    {
     "name": "stdout",
     "output_type": "stream",
     "text": [
      "train test split\n",
      "975 975 2275 2275\n",
      "train test split\n",
      "1300 1300 1950 1950\n",
      "train test split\n",
      "1625 1625 1625 1625\n",
      "train test split\n",
      "1950 1950 1300 1300\n",
      "train test split\n",
      "2274 2274 976 976\n",
      "train test split\n",
      "2600 2600 650 650\n",
      "train test split\n",
      "2925 2925 325 325\n"
     ]
    }
   ],
   "source": [
    "accuracies = []\n",
    "for i in [0.30, .40, .50, .60, .70, .80, .90]:\n",
    "    # using our custom_train_test_split function\n",
    "    training_inputs, training_labels, test_inputs, test_labels = custom_train_test_split(X, y, i)\n",
    "    model.fit(training_inputs, training_labels)\n",
    "    accuracies.append((i, model.score(test_inputs, test_labels)))\n"
   ]
  },
  {
   "cell_type": "markdown",
   "id": "5a8e9508",
   "metadata": {},
   "source": [
    "### As can be seen from the graph below, the more labelled data we have the better accuracy we get"
   ]
  },
  {
   "cell_type": "code",
   "execution_count": 34,
   "id": "32651048",
   "metadata": {},
   "outputs": [
    {
     "data": {
      "image/png": "[encoded data removed]",
      "text/plain": [
       "<Figure size 432x288 with 1 Axes>"
      ]
     },
     "metadata": {
      "needs_background": "light"
     },
     "output_type": "display_data"
    }
   ],
   "source": [
    "x_axis = [i[0] for i in accuracies]\n",
    "y_axis = [i[1] for i in accuracies]\n",
    "fig = plt.figure()\n",
    "ax = plt.axes()\n",
    "ax.plot(x_axis, y_axis)\n",
    "ax.set(xlabel='% data labelled', ylabel='accuracy', title='Training data % vs accuracy');"
   ]
  },
  {
   "cell_type": "markdown",
   "id": "f718e346",
   "metadata": {},
   "source": [
    "## Task 7: Active learning to select new instances to be labelled\n",
    "\n",
    "1. Train our model using all of the labelled data\n",
    "2. For all the unlabelled data find entropy using scipy.stats \n",
    "3. Find no. of images needed to take the labelled dataset to 65% of total data\n",
    "4. Get K highest entropy images and retrieve lables using our dictionary\n",
    "5. Relable images using reusable function"
   ]
  },
  {
   "cell_type": "code",
   "execution_count": 35,
   "id": "f7265859",
   "metadata": {},
   "outputs": [],
   "source": [
    "# create function to relable data that can be used repetively \n",
    "def relable_dataset(embeddings_dict, X, y, model_all, proportion):\n",
    "    # fitting model to all of our data\n",
    "    model_all.fit(X, y)\n",
    "    y_unlabelled_entropy = []\n",
    "    for key, value in embeddings_dict.items():\n",
    "        if value['labelled'] == False:\n",
    "            predict_prob = model_all.predict_proba(value['embedding'].reshape(1,-1))\n",
    "            entropy_dict = {\n",
    "                'data_label_idx': key,\n",
    "                'entropy': float(entropy(predict_prob, axis=1))\n",
    "            }\n",
    "            y_unlabelled_entropy.append(entropy_dict)                                         \n",
    "\n",
    "    entropy_df = pd.DataFrame(y_unlabelled_entropy)\n",
    "    entropy_df = entropy_df.sort_values('entropy', ascending=False)\n",
    "    \n",
    "    # get the no. of images needed to take the labelled dataset to 65% of total data\n",
    "    K = int(len(embeddings_dict) * proportion - len(X))\n",
    "\n",
    "    # set K highest entropy labelled flag to True\n",
    "    for i in entropy_df[:K].data_label_idx:\n",
    "        embeddings_dict[i]['labelled'] = True\n",
    "    return embeddings_dict"
   ]
  },
  {
   "cell_type": "code",
   "execution_count": 36,
   "id": "be144457",
   "metadata": {},
   "outputs": [],
   "source": [
    "from scipy.stats import entropy\n",
    "\n",
    "model_all = make_pipeline(StandardScaler(),\n",
    "                    SGDClassifier(max_iter=1000, loss='modified_huber'))\n",
    "\n",
    "# relable to 65% of the data\n",
    "dataset_dict_main = relable_dataset(dataset_dict_main, X, y, model_all, 0.65)"
   ]
  },
  {
   "cell_type": "markdown",
   "id": "f327c02e",
   "metadata": {},
   "source": [
    "## Task 8: Final model training and evaluation\n",
    "\n",
    "1. Create new train test datasets using our previously created function custom_train_test_split\n",
    "2. train the model \n",
    "3. evaluate on test dataset"
   ]
  },
  {
   "cell_type": "code",
   "execution_count": 37,
   "id": "62644380",
   "metadata": {},
   "outputs": [
    {
     "name": "stdout",
     "output_type": "stream",
     "text": [
      "train test split\n",
      "4224 4224 1057 1057\n"
     ]
    }
   ],
   "source": [
    "# getting new train and test inputs all of which are labelled\n",
    "X = [values['embedding'] for values in dataset_dict_main.values() if values['labelled'] == True]\n",
    "y = [values['class_idx'] for values in dataset_dict_main.values() if values['labelled'] == True]\n",
    "\n",
    "training_inputs, training_labels, test_inputs, test_labels = custom_train_test_split(X, y, .80)"
   ]
  },
  {
   "cell_type": "code",
   "execution_count": 38,
   "id": "199b1f28",
   "metadata": {},
   "outputs": [
    {
     "data": {
      "text/plain": [
       "Pipeline(steps=[('standardscaler', StandardScaler()),\n",
       "                ('sgdclassifier', SGDClassifier(loss='modified_huber'))])"
      ]
     },
     "execution_count": 38,
     "metadata": {},
     "output_type": "execute_result"
    }
   ],
   "source": [
    "# Creating final model\n",
    "model_final = make_pipeline(StandardScaler(),\n",
    "                    SGDClassifier(max_iter=1000, loss='modified_huber', penalty='l2'))\n",
    "\n",
    "model_final.fit(training_inputs, training_labels)"
   ]
  },
  {
   "cell_type": "code",
   "execution_count": 39,
   "id": "9e98439c",
   "metadata": {},
   "outputs": [
    {
     "data": {
      "text/plain": [
       "0.21002838221381268"
      ]
     },
     "execution_count": 39,
     "metadata": {},
     "output_type": "execute_result"
    }
   ],
   "source": [
    "# Scoring the final model \n",
    "model_final.score(test_inputs, test_labels)"
   ]
  },
  {
   "cell_type": "code",
   "execution_count": 40,
   "id": "2f8092d5",
   "metadata": {},
   "outputs": [],
   "source": [
    "# saving and loading the model\n",
    "torch.save(model_final, curr_dir + \"/data/model_final.pt\")\n",
    "\n",
    "loaded_final_model = torch.load(curr_dir + \"/data/model_final.pt\")"
   ]
  },
  {
   "cell_type": "markdown",
   "id": "091e9e49",
   "metadata": {},
   "source": [
    "## Conclusion\n",
    "\n",
    "1. We do see an improvement in accuracy with expanding the labelled dataset 17% vs 21%\n",
    "2. The decision to label more data was fruitful in increasing accuracy\n",
    "3. Final performance: 21% accuracy\n"
   ]
  },
  {
   "cell_type": "code",
   "execution_count": null,
   "id": "952c4d00",
   "metadata": {},
   "outputs": [],
   "source": []
  }
 ],
 "metadata": {
  "kernelspec": {
   "display_name": "Python 3 (ipykernel)",
   "language": "python",
   "name": "python3"
  },
  "language_info": {
   "codemirror_mode": {
    "name": "ipython",
    "version": 3
   },
   "file_extension": ".py",
   "mimetype": "text/x-python",
   "name": "python",
   "nbconvert_exporter": "python",
   "pygments_lexer": "ipython3",
   "version": "3.7.13"
  }
 },
 "nbformat": 4,
 "nbformat_minor": 5
}
