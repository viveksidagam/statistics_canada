{
 "cells": [
  {
   "cell_type": "markdown",
   "id": "a889d0fd",
   "metadata": {},
   "source": [
    "# Assignment 1 Cars Dataset \n",
    "\n",
    "\n",
    "### Getting our workspace ready\n",
    "\n",
    "Let's import all the necessary libraries and set our current working directory to a variable"
   ]
  },
  {
   "cell_type": "code",
   "execution_count": 1,
   "id": "4bea8989",
   "metadata": {},
   "outputs": [],
   "source": [
    "import os\n",
    "import numpy as np\n",
    "import pandas as pd\n",
    "import matplotlib.pyplot as plt\n",
    "from matplotlib.pyplot import imread\n",
    "import torch\n",
    "from torchvision import models, datasets\n",
    "import torch.nn as nn\n",
    "import scipy.io\n",
    "from PIL import Image\n",
    "from sklearn.model_selection import train_test_split\n",
    "import requests\n",
    "import xtarfile as tarfile\n",
    "\n",
    "curr_dir = os.getcwd()"
   ]
  },
  {
   "cell_type": "markdown",
   "id": "c9fafea6",
   "metadata": {},
   "source": [
    "## Task 1: Build a function that converts a labelled dataset into labelled and unlabelled subsets.\n",
    "\n",
    "My function takes a pd.Series object that has class labels as data and corresponding dataset index as its index\n",
    "It then samples 1 instance from each of the classes and then samples rest of the instances randomly from the remaining instances\n",
    "\n",
    "The function return two lists, one containing indices that are supposed to be labelled and nother containing indices that are supposed to be unlabelled"
   ]
  },
  {
   "cell_type": "code",
   "execution_count": 2,
   "id": "af892746",
   "metadata": {},
   "outputs": [],
   "source": [
    "def split_series_min_1(dataset_labels, proportion):\n",
    "    label_count = int(len(dataset_labels) * (1-proportion))\n",
    "    df = pd.DataFrame(dataset_labels)\n",
    "    sample = df.groupby(by='class_idx').sample(1)\n",
    "    sample = sample.append(\n",
    "        df[~df.index.isin(sample.index)] # only rows that have not been selected\n",
    "        .sample(n=label_count-sample.shape[0]) # sample more rows as needed\n",
    "    ).sort_index()\n",
    "    label_indices = sample.index\n",
    "    unlable_indices = df[~df.index.isin(sample.index)].index\n",
    "    return list(label_indices), list(unlable_indices)\n",
    "    "
   ]
  },
  {
   "cell_type": "markdown",
   "id": "7f4a0881",
   "metadata": {},
   "source": [
    "### Load Data\n",
    "I downloaded the data from the provided link https://ai.stanford.edu/~jkrause/cars/car_dataset.html\n",
    "The devkit folder has a file cars_train_annos.mat that has class indices mapped to the corresponding images and cars_meta.mat file has the list of all indices\n",
    "\n",
    "I will create a DataFrame called data_set that will contain all the detailes about the image files\n",
    "\n",
    "Below cell downloads training dataset tar file to data folder of the working directory and unzips it\n",
    "\n",
    "the devkit folder is already in the repository"
   ]
  },
  {
   "cell_type": "code",
   "execution_count": 3,
   "id": "0ff07531",
   "metadata": {},
   "outputs": [],
   "source": [
    "url = \"http://ai.stanford.edu/~jkrause/car196/cars_train.tgz\"\n",
    "r = requests.get(url)\n",
    "open(curr_dir + \"/data/cars_train.tgz\", \"wb\").write(r.content)\n",
    "# unzip training folder\n",
    "with tarfile.open(curr_dir + \"/data/cars_train.tgz\", 'r:gz') as archive:\n",
    "    archive.extractall(curr_dir + \"/data\")"
   ]
  },
  {
   "cell_type": "code",
   "execution_count": 4,
   "id": "cdd60ac8",
   "metadata": {},
   "outputs": [],
   "source": [
    "#using loadmat() funtion of scipy.io to read matlab binary files\n",
    "cars_meta = scipy.io.loadmat(curr_dir + '/data/devkit/cars_meta.mat') \n",
    "class_names = pd.Series([str(name[0]) for name in cars_meta['class_names'][0]], name=\"class_name\")\n",
    "class_names.index+=1\n",
    "cars_train_annos = scipy.io.loadmat(curr_dir + '/data/devkit/cars_train_annos.mat')"
   ]
  },
  {
   "cell_type": "code",
   "execution_count": 5,
   "id": "51aaf9cf",
   "metadata": {},
   "outputs": [],
   "source": [
    "class_labels = pd.Series(\n",
    "    [int(class_label[0]) for class_label in cars_train_annos['annotations']['class'][0]],\n",
    "    name='class_idx'\n",
    ")\n",
    "file_names = pd.Series(\n",
    "    [str(file_name[0]) for file_name in cars_train_annos['annotations']['fname'][0]],\n",
    "    name='file_name'\n",
    ")"
   ]
  },
  {
   "cell_type": "code",
   "execution_count": 6,
   "id": "09604d87",
   "metadata": {},
   "outputs": [],
   "source": [
    "data_set = pd.concat([pd.Series(file_names.index), file_names], axis=1)\n",
    "data_set = data_set.rename(columns={0:'data_set_idx'})\n",
    "data_set['file_path'] = [curr_dir + \"/data/cars_train/\" + fname for fname in data_set['file_name']]\n",
    "data_set = pd.concat([data_set, class_labels], axis=1)\n",
    "data_set = data_set.merge(class_names, left_on='class_idx', right_on= class_names.index, how='left')"
   ]
  },
  {
   "cell_type": "code",
   "execution_count": 7,
   "id": "2730f9e0",
   "metadata": {},
   "outputs": [
    {
     "data": {
      "text/html": [
       "<div>\n",
       "<style scoped>\n",
       "    .dataframe tbody tr th:only-of-type {\n",
       "        vertical-align: middle;\n",
       "    }\n",
       "\n",
       "    .dataframe tbody tr th {\n",
       "        vertical-align: top;\n",
       "    }\n",
       "\n",
       "    .dataframe thead th {\n",
       "        text-align: right;\n",
       "    }\n",
       "</style>\n",
       "<table border=\"1\" class=\"dataframe\">\n",
       "  <thead>\n",
       "    <tr style=\"text-align: right;\">\n",
       "      <th></th>\n",
       "      <th>data_set_idx</th>\n",
       "      <th>file_name</th>\n",
       "      <th>file_path</th>\n",
       "      <th>class_idx</th>\n",
       "      <th>class_name</th>\n",
       "    </tr>\n",
       "  </thead>\n",
       "  <tbody>\n",
       "    <tr>\n",
       "      <th>0</th>\n",
       "      <td>0</td>\n",
       "      <td>00001.jpg</td>\n",
       "      <td>/Users/viv/my_data/work/statistics_canada/data...</td>\n",
       "      <td>14</td>\n",
       "      <td>Audi TTS Coupe 2012</td>\n",
       "    </tr>\n",
       "    <tr>\n",
       "      <th>1</th>\n",
       "      <td>1</td>\n",
       "      <td>00002.jpg</td>\n",
       "      <td>/Users/viv/my_data/work/statistics_canada/data...</td>\n",
       "      <td>3</td>\n",
       "      <td>Acura TL Sedan 2012</td>\n",
       "    </tr>\n",
       "    <tr>\n",
       "      <th>2</th>\n",
       "      <td>2</td>\n",
       "      <td>00003.jpg</td>\n",
       "      <td>/Users/viv/my_data/work/statistics_canada/data...</td>\n",
       "      <td>91</td>\n",
       "      <td>Dodge Dakota Club Cab 2007</td>\n",
       "    </tr>\n",
       "    <tr>\n",
       "      <th>3</th>\n",
       "      <td>3</td>\n",
       "      <td>00004.jpg</td>\n",
       "      <td>/Users/viv/my_data/work/statistics_canada/data...</td>\n",
       "      <td>134</td>\n",
       "      <td>Hyundai Sonata Hybrid Sedan 2012</td>\n",
       "    </tr>\n",
       "    <tr>\n",
       "      <th>4</th>\n",
       "      <td>4</td>\n",
       "      <td>00005.jpg</td>\n",
       "      <td>/Users/viv/my_data/work/statistics_canada/data...</td>\n",
       "      <td>106</td>\n",
       "      <td>Ford F-450 Super Duty Crew Cab 2012</td>\n",
       "    </tr>\n",
       "    <tr>\n",
       "      <th>...</th>\n",
       "      <td>...</td>\n",
       "      <td>...</td>\n",
       "      <td>...</td>\n",
       "      <td>...</td>\n",
       "      <td>...</td>\n",
       "    </tr>\n",
       "    <tr>\n",
       "      <th>8139</th>\n",
       "      <td>8139</td>\n",
       "      <td>08140.jpg</td>\n",
       "      <td>/Users/viv/my_data/work/statistics_canada/data...</td>\n",
       "      <td>78</td>\n",
       "      <td>Chrysler Town and Country Minivan 2012</td>\n",
       "    </tr>\n",
       "    <tr>\n",
       "      <th>8140</th>\n",
       "      <td>8140</td>\n",
       "      <td>08141.jpg</td>\n",
       "      <td>/Users/viv/my_data/work/statistics_canada/data...</td>\n",
       "      <td>196</td>\n",
       "      <td>smart fortwo Convertible 2012</td>\n",
       "    </tr>\n",
       "    <tr>\n",
       "      <th>8141</th>\n",
       "      <td>8141</td>\n",
       "      <td>08142.jpg</td>\n",
       "      <td>/Users/viv/my_data/work/statistics_canada/data...</td>\n",
       "      <td>163</td>\n",
       "      <td>Mercedes-Benz SL-Class Coupe 2009</td>\n",
       "    </tr>\n",
       "    <tr>\n",
       "      <th>8142</th>\n",
       "      <td>8142</td>\n",
       "      <td>08143.jpg</td>\n",
       "      <td>/Users/viv/my_data/work/statistics_canada/data...</td>\n",
       "      <td>112</td>\n",
       "      <td>Ford GT Coupe 2006</td>\n",
       "    </tr>\n",
       "    <tr>\n",
       "      <th>8143</th>\n",
       "      <td>8143</td>\n",
       "      <td>08144.jpg</td>\n",
       "      <td>/Users/viv/my_data/work/statistics_canada/data...</td>\n",
       "      <td>17</td>\n",
       "      <td>Audi 100 Sedan 1994</td>\n",
       "    </tr>\n",
       "  </tbody>\n",
       "</table>\n",
       "<p>8144 rows × 5 columns</p>\n",
       "</div>"
      ],
      "text/plain": [
       "      data_set_idx  file_name  \\\n",
       "0                0  00001.jpg   \n",
       "1                1  00002.jpg   \n",
       "2                2  00003.jpg   \n",
       "3                3  00004.jpg   \n",
       "4                4  00005.jpg   \n",
       "...            ...        ...   \n",
       "8139          8139  08140.jpg   \n",
       "8140          8140  08141.jpg   \n",
       "8141          8141  08142.jpg   \n",
       "8142          8142  08143.jpg   \n",
       "8143          8143  08144.jpg   \n",
       "\n",
       "                                              file_path  class_idx  \\\n",
       "0     /Users/viv/my_data/work/statistics_canada/data...         14   \n",
       "1     /Users/viv/my_data/work/statistics_canada/data...          3   \n",
       "2     /Users/viv/my_data/work/statistics_canada/data...         91   \n",
       "3     /Users/viv/my_data/work/statistics_canada/data...        134   \n",
       "4     /Users/viv/my_data/work/statistics_canada/data...        106   \n",
       "...                                                 ...        ...   \n",
       "8139  /Users/viv/my_data/work/statistics_canada/data...         78   \n",
       "8140  /Users/viv/my_data/work/statistics_canada/data...        196   \n",
       "8141  /Users/viv/my_data/work/statistics_canada/data...        163   \n",
       "8142  /Users/viv/my_data/work/statistics_canada/data...        112   \n",
       "8143  /Users/viv/my_data/work/statistics_canada/data...         17   \n",
       "\n",
       "                                  class_name  \n",
       "0                        Audi TTS Coupe 2012  \n",
       "1                        Acura TL Sedan 2012  \n",
       "2                 Dodge Dakota Club Cab 2007  \n",
       "3           Hyundai Sonata Hybrid Sedan 2012  \n",
       "4        Ford F-450 Super Duty Crew Cab 2012  \n",
       "...                                      ...  \n",
       "8139  Chrysler Town and Country Minivan 2012  \n",
       "8140           smart fortwo Convertible 2012  \n",
       "8141       Mercedes-Benz SL-Class Coupe 2009  \n",
       "8142                      Ford GT Coupe 2006  \n",
       "8143                     Audi 100 Sedan 1994  \n",
       "\n",
       "[8144 rows x 5 columns]"
      ]
     },
     "execution_count": 7,
     "metadata": {},
     "output_type": "execute_result"
    }
   ],
   "source": [
    "data_set"
   ]
  },
  {
   "cell_type": "code",
   "execution_count": 103,
   "id": "a7d63e3a",
   "metadata": {},
   "outputs": [
    {
     "data": {
      "text/plain": [
       "GMC Savana Van 2012                                    68\n",
       "Chrysler 300 SRT-8 2010                                49\n",
       "Mercedes-Benz 300-Class Convertible 1993               48\n",
       "Mitsubishi Lancer Sedan 2012                           48\n",
       "Jaguar XK XKR 2012                                     47\n",
       "                                                       ..\n",
       "Rolls-Royce Phantom Drophead Coupe Convertible 2012    31\n",
       "Chevrolet Express Cargo Van 2007                       30\n",
       "Maybach Landaulet Convertible 2012                     29\n",
       "FIAT 500 Abarth 2012                                   28\n",
       "Hyundai Accent Sedan 2012                              24\n",
       "Name: class_name, Length: 196, dtype: int64"
      ]
     },
     "execution_count": 103,
     "metadata": {},
     "output_type": "execute_result"
    }
   ],
   "source": [
    "data_set.class_name.value_counts()"
   ]
  },
  {
   "cell_type": "code",
   "execution_count": 8,
   "id": "d3b8009f",
   "metadata": {},
   "outputs": [],
   "source": [
    "# Function to get image as numpy array using file_path\n",
    "def get_image_from_path(file_path):\n",
    "    image = imread(file_path)\n",
    "    return image"
   ]
  },
  {
   "cell_type": "code",
   "execution_count": 9,
   "id": "72e4c315",
   "metadata": {},
   "outputs": [
    {
     "name": "stdout",
     "output_type": "stream",
     "text": [
      "Bentley Continental GT Coupe 2007\n"
     ]
    },
    {
     "data": {
      "image/png": "[encoded data removed]",
      "text/plain": [
       "<Figure size 432x288 with 1 Axes>"
      ]
     },
     "metadata": {
      "needs_background": "light"
     },
     "output_type": "display_data"
    }
   ],
   "source": [
    "# Looking at a random image and its class\n",
    "plt.imshow(get_image_from_path(data_set['file_path'][1000]))\n",
    "print(data_set['class_name'][1000])"
   ]
  },
  {
   "cell_type": "markdown",
   "id": "644b4cf3",
   "metadata": {},
   "source": [
    "## Task 2: Data cleaning"
   ]
  },
  {
   "cell_type": "code",
   "execution_count": 10,
   "id": "5eed2c4e",
   "metadata": {},
   "outputs": [],
   "source": [
    "# function to check if the image located at the given path is 3-channel or not\n",
    "def check_RGB(file_path):\n",
    "    try:\n",
    "        image = imread(file_path) # read in an image\n",
    "        if image.ndim != 3:\n",
    "            return False\n",
    "        else:\n",
    "            return True\n",
    "    except:\n",
    "        return False"
   ]
  },
  {
   "cell_type": "code",
   "execution_count": 11,
   "id": "12ab71e7",
   "metadata": {},
   "outputs": [
    {
     "name": "stdout",
     "output_type": "stream",
     "text": [
      "CPU times: user 1min 31s, sys: 25.9 s, total: 1min 57s\n",
      "Wall time: 2min 26s\n"
     ]
    }
   ],
   "source": [
    "%%time\n",
    "# initiate a new column in data_set with a is_RGB flag\n",
    "# this cell might take a bit to run\n",
    "data_set['is_RGB'] = data_set['file_path'].map(lambda file_path: check_RGB(file_path))"
   ]
  },
  {
   "cell_type": "code",
   "execution_count": 12,
   "id": "c06fc8bb",
   "metadata": {},
   "outputs": [],
   "source": [
    "# function to delete file at the mentioned file_path\n",
    "def delete_files(file_paths):\n",
    "    for file_path in file_paths:\n",
    "        try:\n",
    "            os.remove(file_path)\n",
    "        except:\n",
    "            continue"
   ]
  },
  {
   "cell_type": "code",
   "execution_count": 13,
   "id": "4d25d2bd",
   "metadata": {},
   "outputs": [],
   "source": [
    "# function to delete all non-RGB images from the disk\n",
    "def delete_non_RGB_images(file_paths, folder_name):\n",
    "    count1 = 0\n",
    "    for path in os.listdir(curr_dir + \"/data/\" + folder_name):\n",
    "        # check if current path is a file\n",
    "        if os.path.isfile(os.path.join(curr_dir + \"/data/\" + folder_name, path)):\n",
    "            count1 += 1\n",
    "    print('File count before deletion:', count1)\n",
    "\n",
    "    delete_files(file_paths)\n",
    "    \n",
    "    count2 = 0\n",
    "    for path in os.listdir(curr_dir + \"/data/\" + folder_name):\n",
    "        # check if current path is a file\n",
    "        if os.path.isfile(os.path.join(curr_dir + \"/data/\" + folder_name, path)):\n",
    "            count2 += 1\n",
    "    print('File count after deletion:', count2)\n",
    "    if count1 == count2:\n",
    "        return \"Failed\"\n",
    "    else: \n",
    "        return \"Success\""
   ]
  },
  {
   "cell_type": "code",
   "execution_count": 14,
   "id": "e8ae3ef8",
   "metadata": {},
   "outputs": [
    {
     "name": "stdout",
     "output_type": "stream",
     "text": [
      "File count before deletion: 8144\n",
      "File count after deletion: 8126\n"
     ]
    }
   ],
   "source": [
    "delete_status = delete_non_RGB_images(data_set[data_set['is_RGB']==False].file_path, \"cars_train\")\n",
    "data_set = data_set.loc[data_set.is_RGB==True]"
   ]
  },
  {
   "cell_type": "markdown",
   "id": "a2a4b221",
   "metadata": {},
   "source": [
    "## Task 3: Dataset representation\n",
    "\n",
    "1. Load pretrained resnet18 model\n",
    "2. Replace the fully connected final layer with identity layer\n",
    "3. Create transformer to preprocess images\n",
    "4. Create function to forward pass one image at a time and return embeddings\n",
    "5. Save embeddings to disk"
   ]
  },
  {
   "cell_type": "code",
   "execution_count": 15,
   "id": "fe4f9362",
   "metadata": {
    "scrolled": false
   },
   "outputs": [
    {
     "name": "stderr",
     "output_type": "stream",
     "text": [
      "/Users/viv/.conda/envs/glue/lib/python3.7/site-packages/torchvision/models/_utils.py:209: UserWarning: The parameter 'pretrained' is deprecated since 0.13 and may be removed in the future, please use 'weights' instead.\n",
      "  f\"The parameter '{pretrained_param}' is deprecated since 0.13 and may be removed in the future, \"\n",
      "/Users/viv/.conda/envs/glue/lib/python3.7/site-packages/torchvision/models/_utils.py:223: UserWarning: Arguments other than a weight enum or `None` for 'weights' are deprecated since 0.13 and may be removed in the future. The current behavior is equivalent to passing `weights=ResNet18_Weights.IMAGENET1K_V1`. You can also use `weights=ResNet18_Weights.DEFAULT` to get the most up-to-date weights.\n",
      "  warnings.warn(msg)\n"
     ]
    }
   ],
   "source": [
    "# loading a pretrained resnet18 model\n",
    "model = models.resnet18(pretrained=True)\n",
    "\n",
    "# replacing the mmodel.fc layer with Identity layer with 512 out_features\n",
    "model.fc = nn.Identity()"
   ]
  },
  {
   "cell_type": "code",
   "execution_count": 16,
   "id": "e5c50ac5",
   "metadata": {},
   "outputs": [],
   "source": [
    "# Transformer to preprocess images\n",
    "from torchvision import transforms\n",
    "transforms = transforms.Compose([\n",
    "    transforms.Resize((224, 224)),\n",
    "    transforms.ToTensor()\n",
    "])"
   ]
  },
  {
   "cell_type": "markdown",
   "id": "0de1f7e3",
   "metadata": {},
   "source": [
    "There's scope for enhancements in the above transformer, but for now we will go with a simple one"
   ]
  },
  {
   "cell_type": "code",
   "execution_count": 17,
   "id": "7276e00c",
   "metadata": {},
   "outputs": [],
   "source": [
    "#function to forward pass one image at a time and return embeddings in the specified format\n",
    "def get_resnet18_output(data_set, model, transforms):\n",
    "    embeddings_dict = dict()\n",
    "    for index, row in data_set.iterrows():\n",
    "        img = Image.open(row['file_path']) \n",
    "        img_tensor = transforms(img).reshape((1,3,224,224))\n",
    "        resnet18_output = model(img_tensor).reshape(512)\n",
    "        dict_ele = {\n",
    "            \"embedding\": resnet18_output.detach().numpy(),\n",
    "            \"class_idx\": row['class_idx'],\n",
    "            \"labelled\": True\n",
    "        }\n",
    "        embeddings_dict[index] = dict_ele\n",
    "    return embeddings_dict"
   ]
  },
  {
   "cell_type": "code",
   "execution_count": 18,
   "id": "d670a579",
   "metadata": {},
   "outputs": [
    {
     "name": "stdout",
     "output_type": "stream",
     "text": [
      "CPU times: user 16min 22s, sys: 2min 52s, total: 19min 14s\n",
      "Wall time: 18min 25s\n"
     ]
    }
   ],
   "source": [
    "%%time\n",
    "# running the function with our data_set\n",
    "embeddings_dict = get_resnet18_output(data_set, model, transforms)"
   ]
  },
  {
   "cell_type": "code",
   "execution_count": 19,
   "id": "6a5217f5",
   "metadata": {},
   "outputs": [],
   "source": [
    "# saving our dict\n",
    "torch.save(embeddings_dict, curr_dir + '/embeddings_dict.pt')"
   ]
  },
  {
   "cell_type": "code",
   "execution_count": 20,
   "id": "95d0e3c7",
   "metadata": {},
   "outputs": [],
   "source": [
    "# loading our dict\n",
    "embeddings_dict = torch.load(curr_dir + '/embeddings_dict.pt')"
   ]
  },
  {
   "cell_type": "code",
   "execution_count": 21,
   "id": "5849758f",
   "metadata": {},
   "outputs": [
    {
     "data": {
      "text/plain": [
       "{'embedding': array([0.94455284, 0.9368853 , 0.9504109 , 1.0915345 , 0.91757256,\n",
       "        0.89275825, 0.92629516, 1.064274  , 0.88701576, 0.92185915,\n",
       "        0.91651696, 0.89591575, 0.90016717, 0.881884  , 0.8382377 ,\n",
       "        0.9297963 , 0.96670735, 1.3530878 , 0.9501871 , 0.85147715,\n",
       "        0.94308734, 1.1296682 , 0.95373285, 1.0304201 , 0.88473874,\n",
       "        0.988906  , 0.8953928 , 0.9569432 , 0.8901322 , 0.89232093,\n",
       "        0.94572264, 0.9279541 , 0.9844675 , 0.85562956, 0.8952065 ,\n",
       "        0.87990934, 0.98419046, 1.0078696 , 0.89535797, 0.8996763 ,\n",
       "        0.8802657 , 0.9049912 , 0.82883716, 0.99400485, 0.80796874,\n",
       "        0.9435906 , 0.9500127 , 1.1704112 , 0.89932275, 0.9097659 ,\n",
       "        0.97892076, 0.9807114 , 0.79764104, 0.9432918 , 0.83657116,\n",
       "        0.9611002 , 1.0467632 , 0.9673366 , 1.034347  , 0.99136156,\n",
       "        0.92958087, 0.9038848 , 0.9797889 , 0.9322253 , 0.8975569 ,\n",
       "        1.0036563 , 0.8586741 , 1.0134481 , 1.0142994 , 0.83465326,\n",
       "        0.9084855 , 0.8652187 , 0.88919955, 0.9243481 , 0.9384274 ,\n",
       "        0.89813507, 0.8479901 , 0.90665656, 0.9428592 , 0.86239946,\n",
       "        0.8533266 , 1.0375643 , 1.0222968 , 1.1608119 , 0.80937624,\n",
       "        0.9372909 , 0.9369082 , 0.8870968 , 1.030003  , 0.9063871 ,\n",
       "        0.8048175 , 0.8851209 , 0.9353597 , 0.9477392 , 0.81227165,\n",
       "        0.88364136, 1.0111656 , 0.9324947 , 0.9068401 , 0.88195884,\n",
       "        1.0641972 , 1.0258286 , 0.93539816, 1.00488   , 0.98642725,\n",
       "        0.8533692 , 0.9377108 , 0.95188904, 0.82642967, 0.99366534,\n",
       "        0.93621796, 0.9785083 , 0.8908768 , 0.92327327, 0.8646711 ,\n",
       "        1.0130181 , 0.93908834, 0.92059326, 0.92443395, 0.9348024 ,\n",
       "        0.95754504, 0.9276678 , 0.8712015 , 0.8207606 , 0.87791586,\n",
       "        0.8838928 , 0.88434047, 0.9653233 , 0.94545674, 0.96830827,\n",
       "        0.82693666, 0.95403874, 0.8745572 , 0.86897814, 1.0371974 ,\n",
       "        1.0681705 , 0.95646966, 0.9727151 , 0.99508226, 0.8997774 ,\n",
       "        0.8858713 , 0.8921133 , 0.9629001 , 0.98974997, 0.92158073,\n",
       "        0.8629703 , 0.871332  , 0.9490962 , 0.88325983, 1.0997298 ,\n",
       "        0.93034536, 0.8600289 , 0.92086786, 0.8980588 , 0.8815429 ,\n",
       "        0.8318169 , 1.0485932 , 0.9394694 , 0.8714365 , 0.8775594 ,\n",
       "        0.95666826, 1.288935  , 1.0300279 , 1.2559903 , 0.99880373,\n",
       "        0.9974769 , 0.96422786, 0.8390232 , 0.9440638 , 0.8816103 ,\n",
       "        0.88453853, 0.9874936 , 0.8937154 , 0.84386086, 0.9150024 ,\n",
       "        0.9050343 , 1.0158224 , 0.969262  , 1.0572544 , 0.918447  ,\n",
       "        0.99704665, 0.96510494, 1.2451009 , 0.9533737 , 0.98718494,\n",
       "        1.0056815 , 0.95365846, 0.8940312 , 0.81820273, 0.8918342 ,\n",
       "        0.8760565 , 0.82837784, 1.1124874 , 1.0788293 , 0.87351346,\n",
       "        0.8791249 , 0.93025416, 0.91401196, 0.97626114, 0.8224441 ,\n",
       "        0.86559033, 0.9172027 , 1.0815738 , 0.90499747, 0.9789485 ,\n",
       "        0.9333883 , 0.8542808 , 0.8863729 , 0.93184924, 1.0028161 ,\n",
       "        0.8259427 , 0.83556473, 0.87046313, 0.9253795 , 0.9318977 ,\n",
       "        0.9110146 , 0.944841  , 0.9411634 , 0.8664627 , 0.96897185,\n",
       "        0.9466125 , 0.9546775 , 0.91497874, 0.8728363 , 0.9628865 ,\n",
       "        0.8286407 , 1.0098504 , 0.9036462 , 1.0721403 , 0.9816968 ,\n",
       "        0.9076769 , 0.9572461 , 0.86628544, 0.98904693, 0.893401  ,\n",
       "        1.0140754 , 0.9176887 , 1.035224  , 0.8170039 , 0.99124604,\n",
       "        0.93987477, 0.8607399 , 1.0415058 , 0.8087356 , 0.8880842 ,\n",
       "        1.0007485 , 0.9591042 , 0.8759605 , 0.9034268 , 0.9955907 ,\n",
       "        1.0939541 , 0.9205802 , 0.8749041 , 0.9187901 , 0.92959267,\n",
       "        1.284977  , 0.876635  , 1.0868201 , 0.89875835, 0.96802187,\n",
       "        1.0671128 , 0.90253806, 0.9826017 , 0.9597945 , 0.8400523 ,\n",
       "        0.95282817, 0.90438795, 0.9487331 , 0.8482919 , 1.0216273 ,\n",
       "        0.79929245, 0.8480959 , 0.86596197, 0.8694773 , 0.9507952 ,\n",
       "        0.9269467 , 0.90191776, 0.90735644, 0.92735976, 0.815287  ,\n",
       "        1.3900244 , 0.91319394, 0.9493286 , 0.89771986, 0.9619334 ,\n",
       "        0.8712756 , 0.8243606 , 0.8858584 , 0.9665093 , 0.8717456 ,\n",
       "        0.91353434, 0.96204436, 0.87483245, 0.9475878 , 0.93673474,\n",
       "        0.8674467 , 1.0281043 , 1.1442398 , 0.93454456, 0.94229966,\n",
       "        0.88863873, 0.8977288 , 0.9138769 , 0.84121746, 0.98722744,\n",
       "        1.0119709 , 0.8987045 , 0.9485644 , 0.8381363 , 0.8725177 ,\n",
       "        0.92032087, 0.93521416, 1.2191249 , 0.8854255 , 0.8390903 ,\n",
       "        0.8257253 , 1.0180254 , 0.92546695, 1.0749289 , 0.91859096,\n",
       "        0.87933266, 0.961168  , 1.0120021 , 0.95997417, 0.8984047 ,\n",
       "        0.9060519 , 0.9957756 , 0.910194  , 0.90355563, 0.91255647,\n",
       "        1.0375936 , 1.0401127 , 0.86364   , 0.86242825, 0.9352468 ,\n",
       "        0.9071736 , 1.0090138 , 0.9148798 , 0.9523142 , 0.88983357,\n",
       "        0.9313151 , 0.9114596 , 0.98204833, 1.1718354 , 0.92643845,\n",
       "        0.83516765, 0.90909827, 0.87684244, 0.9425262 , 0.96880364,\n",
       "        0.8870211 , 0.88628113, 0.80158454, 0.8960999 , 0.9211425 ,\n",
       "        0.70761   , 0.95772403, 0.9895055 , 0.8336782 , 0.9161224 ,\n",
       "        0.96493065, 0.95452213, 0.86209697, 0.95305526, 1.0497289 ,\n",
       "        0.8457946 , 1.0098853 , 1.0144805 , 1.00466   , 0.96749955,\n",
       "        1.0145851 , 0.83721864, 0.9620851 , 0.918985  , 0.9053187 ,\n",
       "        0.8856801 , 0.8875991 , 0.90183264, 1.0227929 , 0.9873101 ,\n",
       "        1.1100707 , 0.8716288 , 1.0506088 , 0.93401694, 1.0276253 ,\n",
       "        0.9176404 , 0.9201577 , 1.0341196 , 0.9068169 , 0.93038225,\n",
       "        0.9444942 , 0.98901045, 0.80925417, 1.0550052 , 1.0516021 ,\n",
       "        0.94291   , 0.90735626, 0.9198665 , 0.99088436, 0.9464454 ,\n",
       "        1.1277368 , 1.0791917 , 0.8276182 , 0.9580439 , 1.0075853 ,\n",
       "        0.89650446, 0.96589535, 0.9146805 , 0.8842214 , 0.86782146,\n",
       "        0.9454137 , 0.90870523, 0.9559941 , 0.894402  , 1.000646  ,\n",
       "        1.0819383 , 0.9064845 , 0.86372274, 0.8500806 , 0.9143301 ,\n",
       "        0.88103306, 0.9606419 , 0.9169798 , 0.9275975 , 0.8779001 ,\n",
       "        0.89785975, 0.9323415 , 1.190193  , 0.8970194 , 0.95014876,\n",
       "        0.96190894, 0.9414002 , 0.91700846, 0.9004092 , 0.9298055 ,\n",
       "        1.1032662 , 0.91317093, 0.9905713 , 0.9684562 , 0.9091252 ,\n",
       "        0.8952339 , 0.8063873 , 0.83558196, 0.97153825, 0.9462736 ,\n",
       "        0.99543685, 0.946714  , 0.9410378 , 1.0385741 , 1.0134038 ,\n",
       "        0.981267  , 0.93740463, 1.0129464 , 0.9053279 , 0.9455096 ,\n",
       "        0.97051746, 0.95355666, 1.03349   , 0.89951265, 0.88945305,\n",
       "        1.1485795 , 0.91554743, 0.9474    , 0.81523234, 1.0065597 ,\n",
       "        0.9051646 , 0.931008  , 0.92042035, 1.0932661 , 0.92755336,\n",
       "        0.94048226, 1.0190271 , 0.9330111 , 0.88715726, 0.9009474 ,\n",
       "        0.9038544 , 0.9256826 , 0.9300191 , 0.8779551 , 0.8486893 ,\n",
       "        0.9112636 , 0.9651489 , 0.9585267 , 0.9536354 , 1.186181  ,\n",
       "        1.0172558 , 0.9261615 , 0.9861079 , 1.0622213 , 0.937244  ,\n",
       "        0.96868956, 1.0170535 , 0.9621227 , 0.86223733, 0.8352104 ,\n",
       "        0.88614035, 0.85367924, 0.9717296 , 0.9909211 , 0.98570377,\n",
       "        0.93465763, 0.9198723 , 0.9492953 , 0.8733077 , 0.9594628 ,\n",
       "        0.8523879 , 1.0536373 , 1.0036234 , 0.9362106 , 0.9755574 ,\n",
       "        1.1687021 , 1.0145241 ], dtype=float32),\n",
       " 'class_idx': 14,\n",
       " 'labelled': True}"
      ]
     },
     "execution_count": 21,
     "metadata": {},
     "output_type": "execute_result"
    }
   ],
   "source": [
    "embeddings_dict[0]"
   ]
  },
  {
   "cell_type": "markdown",
   "id": "687d311a",
   "metadata": {},
   "source": [
    "## Task 4: Build a partially labelled dataset\n",
    "\n",
    "I created a function that takes in the embeddings_dict that we have finalized and a proportion and splits it into two groups using the function split_series_min_1 created above"
   ]
  },
  {
   "cell_type": "code",
   "execution_count": 22,
   "id": "4d34b5ca",
   "metadata": {},
   "outputs": [],
   "source": [
    "def unlable_dataset(embeddings_dict, proportion):\n",
    "    dataset_labels = pd.Series([\n",
    "    values['class_idx'] for values in embeddings_dict.values()], \n",
    "    index=embeddings_dict.keys(), name='class_idx'\n",
    "    )\n",
    "\n",
    "    label_indices, unlable_indices = split_series_min_1(dataset_labels, proportion)\n",
    "    \n",
    "    for i in unlable_indices:\n",
    "        embeddings_dict[i]['labelled'] = False\n",
    "    for i in label_indices:\n",
    "        embeddings_dict[i]['labelled'] = True\n",
    "    \n",
    "    return embeddings_dict"
   ]
  },
  {
   "cell_type": "code",
   "execution_count": 23,
   "id": "7b6849da",
   "metadata": {
    "scrolled": false
   },
   "outputs": [],
   "source": [
    "# running the function on our dataset and saving the result into dataset_dict_main to be used in all the further steps\n",
    "dataset_dict_main = unlable_dataset(embeddings_dict, 0.60)"
   ]
  },
  {
   "cell_type": "code",
   "execution_count": 24,
   "id": "fa91cea7",
   "metadata": {},
   "outputs": [
    {
     "data": {
      "text/plain": [
       "8126"
      ]
     },
     "execution_count": 24,
     "metadata": {},
     "output_type": "execute_result"
    }
   ],
   "source": [
    "len(dataset_dict_main)"
   ]
  },
  {
   "cell_type": "markdown",
   "id": "21685cb5",
   "metadata": {},
   "source": [
    "## Task 5: Create train/validation split\n",
    "\n",
    "1. Get embeddings from the final dataset and push into list X\n",
    "2. Get class idices and push into list y\n",
    "3. Split X and Y in the proportion passed as an argument"
   ]
  },
  {
   "cell_type": "code",
   "execution_count": 25,
   "id": "cb4606a3",
   "metadata": {},
   "outputs": [],
   "source": [
    "def custom_train_test_split(data_set_inputs, data_set_labels, training_proportion):\n",
    "    X_train, X_test, y_train, y_test = train_test_split(data_set_inputs,\n",
    "                                                        data_set_labels, \n",
    "                                                        test_size=1-training_proportion,\n",
    "                                                        random_state=42)\n",
    "    print(\"train test split\")\n",
    "    print(len(X_train), len(y_train), len(X_test), len(y_test))\n",
    "    return X_train, y_train, X_test, y_test"
   ]
  },
  {
   "cell_type": "code",
   "execution_count": 26,
   "id": "99256682",
   "metadata": {},
   "outputs": [
    {
     "name": "stdout",
     "output_type": "stream",
     "text": [
      "train test split\n",
      "2600 2600 650 650\n"
     ]
    }
   ],
   "source": [
    "X = [values['embedding'] for values in dataset_dict_main.values() if values['labelled'] == True]\n",
    "y = [values['class_idx'] for values in dataset_dict_main.values() if values['labelled'] == True]\n",
    "\n",
    "training_inputs, training_labels, test_inputs, test_labels = custom_train_test_split(X, y, .80)"
   ]
  },
  {
   "cell_type": "markdown",
   "id": "e46ed04e",
   "metadata": {},
   "source": [
    "## Task 6: Create experiment(s) to convince clients that more labelled data will improve model performance\n",
    "\n",
    "1. Run SGD Classifier with default parameters\n",
    "2. Split dataset into different proportions and check accuracy score\n",
    "3. Plot the improvement"
   ]
  },
  {
   "cell_type": "code",
   "execution_count": 27,
   "id": "95721fd2",
   "metadata": {},
   "outputs": [
    {
     "data": {
      "text/plain": [
       "Pipeline(steps=[('standardscaler', StandardScaler()),\n",
       "                ('sgdclassifier', SGDClassifier(loss='modified_huber'))])"
      ]
     },
     "execution_count": 27,
     "metadata": {},
     "output_type": "execute_result"
    }
   ],
   "source": [
    "from sklearn.linear_model import SGDClassifier\n",
    "from sklearn.preprocessing import StandardScaler\n",
    "from sklearn.pipeline import make_pipeline\n",
    "\n",
    "model = make_pipeline(StandardScaler(),\n",
    "                    SGDClassifier(max_iter=1000, loss='modified_huber'))\n",
    "model.fit(training_inputs, training_labels)"
   ]
  },
  {
   "cell_type": "markdown",
   "id": "c3a1a2ca",
   "metadata": {},
   "source": [
    "There's a lot of scope for enhancing the above model through hyperparameter tuning"
   ]
  },
  {
   "cell_type": "code",
   "execution_count": 28,
   "id": "bc17cf09",
   "metadata": {},
   "outputs": [
    {
     "data": {
      "text/plain": [
       "0.02923076923076923"
      ]
     },
     "execution_count": 28,
     "metadata": {},
     "output_type": "execute_result"
    }
   ],
   "source": [
    "model.score(test_inputs, test_labels)"
   ]
  },
  {
   "cell_type": "code",
   "execution_count": 29,
   "id": "ac76747b",
   "metadata": {},
   "outputs": [
    {
     "name": "stdout",
     "output_type": "stream",
     "text": [
      "train test split\n",
      "1300 1300 1950 1950\n",
      "train test split\n",
      "1625 1625 1625 1625\n",
      "train test split\n",
      "1950 1950 1300 1300\n",
      "train test split\n",
      "2274 2274 976 976\n"
     ]
    }
   ],
   "source": [
    "accuracies = []\n",
    "for i in [.40, .50, .60, .70]:\n",
    "    # using our custom_train_test_split function\n",
    "    training_inputs, training_labels, test_inputs, test_labels = custom_train_test_split(X, y, i)\n",
    "    model.fit(training_inputs, training_labels)\n",
    "    accuracies.append((i, model.score(test_inputs, test_labels)))\n"
   ]
  },
  {
   "cell_type": "markdown",
   "id": "5a8e9508",
   "metadata": {},
   "source": [
    "### As can be seen from the graph below, the more labelled data we have the better accuracy we get"
   ]
  },
  {
   "cell_type": "code",
   "execution_count": 30,
   "id": "32651048",
   "metadata": {},
   "outputs": [
    {
     "data": {
      "image/png": "[encoded data removed]",
      "text/plain": [
       "<Figure size 432x288 with 1 Axes>"
      ]
     },
     "metadata": {
      "needs_background": "light"
     },
     "output_type": "display_data"
    }
   ],
   "source": [
    "x_axis = [i[0] for i in accuracies]\n",
    "y_axis = [i[1] for i in accuracies]\n",
    "fig = plt.figure()\n",
    "ax = plt.axes()\n",
    "ax.plot(x_axis, y_axis)\n",
    "ax.set(xlabel='% data labelled', ylabel='accuracy', title='Training data % vs accuracy');"
   ]
  },
  {
   "cell_type": "markdown",
   "id": "f718e346",
   "metadata": {},
   "source": [
    "## Task 7: Active learning to select new instances to be labelled\n",
    "\n",
    "1. Train our model using all of the labelled data\n",
    "2. For all the unlabelled data find entropy using scipy.stats \n",
    "3. Find no. of images needed to take the labelled dataset to 65% of total data\n",
    "4. Get K highest entropy images and retrieve lables using our dictionary\n",
    "5. Relable images using reusable function"
   ]
  },
  {
   "cell_type": "code",
   "execution_count": 31,
   "id": "f7265859",
   "metadata": {},
   "outputs": [],
   "source": [
    "# create function to relable data that can be used repetively \n",
    "def relable_dataset(embeddings_dict, X, y, model_all, proportion):\n",
    "    # fitting model to all of our data\n",
    "    model_all.fit(X, y)\n",
    "    y_unlabelled_entropy = []\n",
    "    for key, value in embeddings_dict.items():\n",
    "        if value['labelled'] == False:\n",
    "            predict_prob = model_all.predict_proba(value['embedding'].reshape(1,-1))\n",
    "            entropy_dict = {\n",
    "                'data_label_idx': key,\n",
    "                'entropy': float(entropy(predict_prob, axis=1))\n",
    "            }\n",
    "            y_unlabelled_entropy.append(entropy_dict)                                         \n",
    "\n",
    "    entropy_df = pd.DataFrame(y_unlabelled_entropy)\n",
    "    entropy_df = entropy_df.sort_values('entropy', ascending=False)\n",
    "    \n",
    "    # get the no. of images needed to take the labelled dataset to 65% of total data\n",
    "    K = int(len(embeddings_dict) * proportion - len(X))\n",
    "\n",
    "    # set K highest entropy labelled flag to True\n",
    "    for i in entropy_df[:K].data_label_idx:\n",
    "        embeddings_dict[i]['labelled'] = True\n",
    "    return embeddings_dict"
   ]
  },
  {
   "cell_type": "code",
   "execution_count": 32,
   "id": "be144457",
   "metadata": {},
   "outputs": [],
   "source": [
    "from scipy.stats import entropy\n",
    "\n",
    "model_all = make_pipeline(StandardScaler(),\n",
    "                    SGDClassifier(max_iter=1000, loss='modified_huber'))\n",
    "\n",
    "# relable to 65% of the data\n",
    "dataset_dict_main = relable_dataset(dataset_dict_main, X, y, model_all, 0.65)"
   ]
  },
  {
   "cell_type": "markdown",
   "id": "f327c02e",
   "metadata": {},
   "source": [
    "## Task 8: Final model training and evaluation\n",
    "\n",
    "1. Create new train test datasets using our previously created function custom_train_test_split\n",
    "2. train the model \n",
    "3. evaluate on test dataset"
   ]
  },
  {
   "cell_type": "code",
   "execution_count": 33,
   "id": "62644380",
   "metadata": {},
   "outputs": [
    {
     "name": "stdout",
     "output_type": "stream",
     "text": [
      "train test split\n",
      "4224 4224 1057 1057\n"
     ]
    }
   ],
   "source": [
    "# getting new train and test inputs all of which are labelled\n",
    "X = [values['embedding'] for values in dataset_dict_main.values() if values['labelled'] == True]\n",
    "y = [values['class_idx'] for values in dataset_dict_main.values() if values['labelled'] == True]\n",
    "\n",
    "training_inputs, training_labels, test_inputs, test_labels = custom_train_test_split(X, y, .80)"
   ]
  },
  {
   "cell_type": "code",
   "execution_count": 34,
   "id": "199b1f28",
   "metadata": {},
   "outputs": [
    {
     "data": {
      "text/plain": [
       "Pipeline(steps=[('standardscaler', StandardScaler()),\n",
       "                ('sgdclassifier', SGDClassifier(loss='modified_huber'))])"
      ]
     },
     "execution_count": 34,
     "metadata": {},
     "output_type": "execute_result"
    }
   ],
   "source": [
    "# Creating final model\n",
    "model_final = make_pipeline(StandardScaler(),\n",
    "                    SGDClassifier(max_iter=1000, loss='modified_huber', penalty='l2'))\n",
    "\n",
    "model_final.fit(training_inputs, training_labels)"
   ]
  },
  {
   "cell_type": "code",
   "execution_count": 35,
   "id": "9e98439c",
   "metadata": {},
   "outputs": [
    {
     "data": {
      "text/plain": [
       "0.03122043519394513"
      ]
     },
     "execution_count": 35,
     "metadata": {},
     "output_type": "execute_result"
    }
   ],
   "source": [
    "# Scoring the final model\n",
    "model_final.score(test_inputs, test_labels)"
   ]
  },
  {
   "cell_type": "code",
   "execution_count": 37,
   "id": "2f8092d5",
   "metadata": {},
   "outputs": [],
   "source": [
    "# saving and loading the model\n",
    "torch.save(model_final, curr_dir + \"/data/model_final.pt\")\n",
    "\n",
    "loaded_final_model = torch.load(curr_dir + \"/data/model_final.pt\")"
   ]
  },
  {
   "cell_type": "markdown",
   "id": "091e9e49",
   "metadata": {},
   "source": [
    "## Conclusion\n",
    "\n",
    "1. Even though overall accuracies are small we do see a slight improvement with expanding the labelled dataset 0.03 vs 0.031\n",
    "2. The decision to label more data was not really fruitful in increasing accuracy\n",
    "3. Final performance: 3.12% accuracy\n"
   ]
  },
  {
   "cell_type": "code",
   "execution_count": null,
   "id": "ec29f9f3",
   "metadata": {},
   "outputs": [],
   "source": []
  }
 ],
 "metadata": {
  "kernelspec": {
   "display_name": "Python 3 (ipykernel)",
   "language": "python",
   "name": "python3"
  },
  "language_info": {
   "codemirror_mode": {
    "name": "ipython",
    "version": 3
   },
   "file_extension": ".py",
   "mimetype": "text/x-python",
   "name": "python",
   "nbconvert_exporter": "python",
   "pygments_lexer": "ipython3",
   "version": "3.7.13"
  }
 },
 "nbformat": 4,
 "nbformat_minor": 5
}
